{
 "cells": [
  {
   "cell_type": "code",
   "execution_count": 98,
   "metadata": {},
   "outputs": [],
   "source": [
    "import re\n",
    "import seaborn as sns\n",
    "import regex\n",
    "import pandas as pd\n",
    "import numpy as np\n",
    "import emoji\n",
    "import plotly.express as px\n",
    "from collections import Counter\n",
    "import matplotlib.pyplot as plt\n",
    "from os import path\n",
    "from PIL import Image\n",
    "import datetime\n",
    "from wordcloud import WordCloud, STOPWORDS, ImageColorGenerator\n",
    "%matplotlib inline\n",
    "import warnings \n",
    "warnings.filterwarnings('ignore')"
   ]
  },
  {
   "cell_type": "code",
   "execution_count": 99,
   "metadata": {},
   "outputs": [],
   "source": [
    "def startsWithDateAndTimeAndroid(s):\n",
    "    pattern = '^([0-9]+)(\\/)([0-9]+)(\\/)([0-9]+), ([0-9]+):([0-9]+)[ ]?(AM|PM|am|pm)? -' \n",
    "    result = re.match(pattern, s)\n",
    "    if result:\n",
    "        return True\n",
    "    return False"
   ]
  },
  {
   "cell_type": "code",
   "execution_count": 100,
   "metadata": {},
   "outputs": [],
   "source": [
    "def startsWithDateAndTimeios(s):\n",
    "    pattern = '^([[0-9]+)(/)([0-9]+)(/)([0-9]+)(, )([0-9]+):([0-9]+):([(0-9]+][ ]?)'\n",
    "    result = re.match(pattern, s)\n",
    "    if result:\n",
    "        return True\n",
    "    return False"
   ]
  },
  {
   "cell_type": "code",
   "execution_count": 101,
   "metadata": {},
   "outputs": [],
   "source": [
    "def FindAuthor(s):\n",
    "  s=s.split(\":\")\n",
    "  if len(s)==2:\n",
    "    return True\n",
    "  else:\n",
    "    return False"
   ]
  },
  {
   "cell_type": "code",
   "execution_count": 102,
   "metadata": {},
   "outputs": [],
   "source": [
    "def getDataPointAndroid(line):   \n",
    "    splitLine = line.split(' - ') \n",
    "    dateTime = splitLine[0]\n",
    "    date, time = dateTime.split(', ') \n",
    "    message = ' '.join(splitLine[1:])\n",
    "    if FindAuthor(message): \n",
    "        splitMessage = message.split(':') \n",
    "        author = splitMessage[0] \n",
    "        message = ' '.join(splitMessage[1:])\n",
    "    else:\n",
    "        author = None\n",
    "    return date, time, author, message"
   ]
  },
  {
   "cell_type": "code",
   "execution_count": 103,
   "metadata": {},
   "outputs": [],
   "source": [
    "def getDataPointios(line):\n",
    "    splitLine = line.split('] ')\n",
    "    dateTime = splitLine[0]\n",
    "    if ',' in dateTime:\n",
    "        date, time = dateTime.split(',')\n",
    "    else:\n",
    "        date, time = dateTime.split(' ')\n",
    "    message = ' '.join(splitLine[1:])\n",
    "    if FindAuthor(message):\n",
    "        splitMessage = message.split(':')\n",
    "        author = splitMessage[0]\n",
    "        message = ' '.join(splitMessage[1:])\n",
    "    else:\n",
    "        author = None\n",
    "    if time[5]==\":\":\n",
    "        time = time[:5]+time[-3:]\n",
    "    else:\n",
    "        if 'AM' in time or 'PM' in time:\n",
    "            time = time[:6]+time[-3:]\n",
    "        else:\n",
    "            time = time[:6]\n",
    "    return date, time, author, message"
   ]
  },
  {
   "cell_type": "code",
   "execution_count": 104,
   "metadata": {},
   "outputs": [],
   "source": [
    "def split_count(text):\n",
    "\n",
    "    emoji_list = []\n",
    "    data = regex.findall(r'\\X', text)\n",
    "    for word in data:\n",
    "        if any(char in emoji.EMOJI_DATA for char in word):\n",
    "            emoji_list.append(word)\n",
    "\n",
    "    return emoji_list"
   ]
  },
  {
   "cell_type": "code",
   "execution_count": 105,
   "metadata": {},
   "outputs": [
    {
     "name": "stdout",
     "output_type": "stream",
     "text": [
      "[14/12/2023, 10:05:12] Ijesha Digital Hub Training Cohort 1: ‎Messages and calls are end-to-end encrypted. No one outside of this chat, not even WhatsApp, can read or listen to them.\n",
      "\n"
     ]
    }
   ],
   "source": [
    "parsedData = [] # List to keep track of data so it can be used by a Pandas dataframe\n",
    "conversationPath = 'C://Users/Biggest/Downloads/_chat.txt' \n",
    "with open(conversationPath, encoding=\"utf-8\") as fp:\n",
    "    device=''\n",
    "    first=fp.readline()\n",
    "    print(first)\n",
    "    if '[' in first:\n",
    "      device='ios'\n",
    "    else:\n",
    "      device=\"android\"\n",
    "    fp.readline() \n",
    "    messageBuffer = [] \n",
    "    date, time, author = None, None, None #message contains 4 things-\"date\",\"time\",\"author\",\"message\" \n",
    "    while True:\n",
    "        line = fp.readline() \n",
    "        if not line: \n",
    "            break\n",
    "        if device==\"ios\":\n",
    "          line = line.strip()\n",
    "          if startsWithDateAndTimeios(line):\n",
    "            if len(messageBuffer) > 0:\n",
    "              parsedData.append([date, time, author, ' '.join(messageBuffer)])\n",
    "            messageBuffer.clear()\n",
    "            date, time, author, message = getDataPointios(line)\n",
    "            messageBuffer.append(message)\n",
    "          else:\n",
    "            line= (line.encode('ascii', 'ignore')).decode(\"utf-8\")\n",
    "            if startsWithDateAndTimeios(line):\n",
    "              if len(messageBuffer) > 0:\n",
    "                parsedData.append([date, time, author, ' '.join(messageBuffer)])\n",
    "              messageBuffer.clear()\n",
    "              date, time, author, message = getDataPointios(line)\n",
    "              messageBuffer.append(message)\n",
    "            else:\n",
    "              messageBuffer.append(line)\n",
    "        else:\n",
    "          line = line.strip()\n",
    "          if startsWithDateAndTimeAndroid(line): \n",
    "            if len(messageBuffer) > 0:\n",
    "              parsedData.append([date, time, author, ' '.join(messageBuffer)])\n",
    "            messageBuffer.clear()\n",
    "            date, time, author, message = getDataPointAndroid(line)\n",
    "            messageBuffer.append(message)\n",
    "          else:\n",
    "            messageBuffer.append(line)"
   ]
  },
  {
   "cell_type": "code",
   "execution_count": 106,
   "metadata": {},
   "outputs": [],
   "source": [
    "if device =='android':\n",
    "        df = pd.DataFrame(parsedData, columns=['Date', 'Time', 'Author', 'Message'])\n",
    "        df[\"Date\"] = pd.to_datetime(df[\"Date\"])\n",
    "        df = df.dropna()\n",
    "        df[\"emoji\"] = df[\"Message\"].apply(split_count)\n",
    "        URLPATTERN = r'(https?://\\S+)'\n",
    "        df['urlcount'] = df.Message.apply(lambda x: re.findall(URLPATTERN, x)).str.len()\n",
    "else:\n",
    "        df = pd.DataFrame(parsedData, columns=['Date', 'Time', 'Author', 'Message']) # Initialising a pandas Dataframe.\n",
    "        df = df.dropna()\n",
    "        df[\"emoji\"] = df[\"Message\"].apply(split_count)\n",
    "        URLPATTERN = r'(https?://\\S+)'\n",
    "        df['urlcount'] = df.Message.apply(lambda x: re.findall(URLPATTERN, x)).str.len()"
   ]
  },
  {
   "cell_type": "code",
   "execution_count": 107,
   "metadata": {},
   "outputs": [
    {
     "data": {
      "text/html": [
       "<div>\n",
       "<style scoped>\n",
       "    .dataframe tbody tr th:only-of-type {\n",
       "        vertical-align: middle;\n",
       "    }\n",
       "\n",
       "    .dataframe tbody tr th {\n",
       "        vertical-align: top;\n",
       "    }\n",
       "\n",
       "    .dataframe thead th {\n",
       "        text-align: right;\n",
       "    }\n",
       "</style>\n",
       "<table border=\"1\" class=\"dataframe\">\n",
       "  <thead>\n",
       "    <tr style=\"text-align: right;\">\n",
       "      <th></th>\n",
       "      <th>Date</th>\n",
       "      <th>Time</th>\n",
       "      <th>Author</th>\n",
       "      <th>Message</th>\n",
       "      <th>emoji</th>\n",
       "      <th>urlcount</th>\n",
       "    </tr>\n",
       "  </thead>\n",
       "  <tbody>\n",
       "    <tr>\n",
       "      <th>0</th>\n",
       "      <td>[14/12/2023</td>\n",
       "      <td>10:05</td>\n",
       "      <td>Ijesha Digital Hub Training Cohort 1</td>\n",
       "      <td>‎~ Farmwella Nigeria Limited added you</td>\n",
       "      <td>[]</td>\n",
       "      <td>0</td>\n",
       "    </tr>\n",
       "    <tr>\n",
       "      <th>1</th>\n",
       "      <td>[14/12/2023</td>\n",
       "      <td>10:05</td>\n",
       "      <td>~ Farmwella Nigeria Limited</td>\n",
       "      <td>‎~ Farmwella Nigeria Limited changed this gro...</td>\n",
       "      <td>[]</td>\n",
       "      <td>0</td>\n",
       "    </tr>\n",
       "    <tr>\n",
       "      <th>2</th>\n",
       "      <td>[14/12/2023</td>\n",
       "      <td>10:05</td>\n",
       "      <td>~ Tsmart Solutions.</td>\n",
       "      <td>‎~ Farmwella Nigeria Limited added ~ Tsmart S...</td>\n",
       "      <td>[]</td>\n",
       "      <td>0</td>\n",
       "    </tr>\n",
       "    <tr>\n",
       "      <th>3</th>\n",
       "      <td>[14/12/2023</td>\n",
       "      <td>10:05</td>\n",
       "      <td>~ Alex Omoniyi (FCA)</td>\n",
       "      <td>‎~ Farmwella Nigeria Limited added ~ Alex Omo...</td>\n",
       "      <td>[]</td>\n",
       "      <td>0</td>\n",
       "    </tr>\n",
       "    <tr>\n",
       "      <th>4</th>\n",
       "      <td>[14/12/2023</td>\n",
       "      <td>10:05</td>\n",
       "      <td>~ O. D. AJAYI (CCSP, ACICRM, MICA)</td>\n",
       "      <td>‎~ Farmwella Nigeria Limited added ~ O. D. AJ...</td>\n",
       "      <td>[]</td>\n",
       "      <td>0</td>\n",
       "    </tr>\n",
       "    <tr>\n",
       "      <th>5</th>\n",
       "      <td>[14/12/2023</td>\n",
       "      <td>10:05</td>\n",
       "      <td>~ Ibukunoluwa💕💕</td>\n",
       "      <td>‎~ Farmwella Nigeria Limited added ~ Ibukunol...</td>\n",
       "      <td>[💕, 💕]</td>\n",
       "      <td>0</td>\n",
       "    </tr>\n",
       "    <tr>\n",
       "      <th>6</th>\n",
       "      <td>[14/12/2023</td>\n",
       "      <td>10:06</td>\n",
       "      <td>~ Oyebode Dayo Johnson</td>\n",
       "      <td>‎~ Farmwella Nigeria Limited added ~ Oyebode ...</td>\n",
       "      <td>[]</td>\n",
       "      <td>0</td>\n",
       "    </tr>\n",
       "    <tr>\n",
       "      <th>7</th>\n",
       "      <td>[14/12/2023</td>\n",
       "      <td>10:06</td>\n",
       "      <td>~ SIR TEE 🖥️🖱️🖨️</td>\n",
       "      <td>‎~ Farmwella Nigeria Limited added ~ SIR TEE ...</td>\n",
       "      <td>[🖥️, 🖱️, 🖨️]</td>\n",
       "      <td>0</td>\n",
       "    </tr>\n",
       "    <tr>\n",
       "      <th>8</th>\n",
       "      <td>[14/12/2023</td>\n",
       "      <td>10:06</td>\n",
       "      <td>Mipe</td>\n",
       "      <td>‎~ Farmwella Nigeria Limited added Mipe</td>\n",
       "      <td>[]</td>\n",
       "      <td>0</td>\n",
       "    </tr>\n",
       "    <tr>\n",
       "      <th>9</th>\n",
       "      <td>[14/12/2023</td>\n",
       "      <td>10:09</td>\n",
       "      <td>~ Noon Ray Mega Interbiz</td>\n",
       "      <td>‎~ Farmwella Nigeria Limited added ~ Noon Ray...</td>\n",
       "      <td>[]</td>\n",
       "      <td>0</td>\n",
       "    </tr>\n",
       "  </tbody>\n",
       "</table>\n",
       "</div>"
      ],
      "text/plain": [
       "          Date    Time                                Author  \\\n",
       "0  [14/12/2023   10:05  Ijesha Digital Hub Training Cohort 1   \n",
       "1  [14/12/2023   10:05           ~ Farmwella Nigeria Limited   \n",
       "2  [14/12/2023   10:05                   ~ Tsmart Solutions.   \n",
       "3  [14/12/2023   10:05                  ~ Alex Omoniyi (FCA)   \n",
       "4  [14/12/2023   10:05    ~ O. D. AJAYI (CCSP, ACICRM, MICA)   \n",
       "5  [14/12/2023   10:05                       ~ Ibukunoluwa💕💕   \n",
       "6  [14/12/2023   10:06                ~ Oyebode Dayo Johnson   \n",
       "7  [14/12/2023   10:06                      ~ SIR TEE 🖥️🖱️🖨️   \n",
       "8  [14/12/2023   10:06                                  Mipe   \n",
       "9  [14/12/2023   10:09              ~ Noon Ray Mega Interbiz   \n",
       "\n",
       "                                             Message         emoji  urlcount  \n",
       "0             ‎~ Farmwella Nigeria Limited added you            []         0  \n",
       "1   ‎~ Farmwella Nigeria Limited changed this gro...            []         0  \n",
       "2   ‎~ Farmwella Nigeria Limited added ~ Tsmart S...            []         0  \n",
       "3   ‎~ Farmwella Nigeria Limited added ~ Alex Omo...            []         0  \n",
       "4   ‎~ Farmwella Nigeria Limited added ~ O. D. AJ...            []         0  \n",
       "5   ‎~ Farmwella Nigeria Limited added ~ Ibukunol...        [💕, 💕]         0  \n",
       "6   ‎~ Farmwella Nigeria Limited added ~ Oyebode ...            []         0  \n",
       "7   ‎~ Farmwella Nigeria Limited added ~ SIR TEE ...  [🖥️, 🖱️, 🖨️]         0  \n",
       "8            ‎~ Farmwella Nigeria Limited added Mipe            []         0  \n",
       "9   ‎~ Farmwella Nigeria Limited added ~ Noon Ray...            []         0  "
      ]
     },
     "execution_count": 107,
     "metadata": {},
     "output_type": "execute_result"
    }
   ],
   "source": [
    "df.head(10) #return first ten rows of dataframe\n"
   ]
  },
  {
   "cell_type": "code",
   "execution_count": 108,
   "metadata": {},
   "outputs": [
    {
     "name": "stdout",
     "output_type": "stream",
     "text": [
      "<class 'pandas.core.frame.DataFrame'>\n",
      "Index: 1060 entries, 0 to 1094\n",
      "Data columns (total 6 columns):\n",
      " #   Column    Non-Null Count  Dtype \n",
      "---  ------    --------------  ----- \n",
      " 0   Date      1060 non-null   object\n",
      " 1   Time      1060 non-null   object\n",
      " 2   Author    1060 non-null   object\n",
      " 3   Message   1060 non-null   object\n",
      " 4   emoji     1060 non-null   object\n",
      " 5   urlcount  1060 non-null   int64 \n",
      "dtypes: int64(1), object(5)\n",
      "memory usage: 58.0+ KB\n"
     ]
    }
   ],
   "source": [
    "df.info() #statistics of the group chat\n"
   ]
  },
  {
   "cell_type": "code",
   "execution_count": 109,
   "metadata": {},
   "outputs": [
    {
     "data": {
      "text/plain": [
       "array(['Ijesha Digital Hub Training Cohort 1',\n",
       "       '~\\u202fFarmwella Nigeria Limited', '~\\u202fTsmart Solutions.',\n",
       "       '~\\u202fAlex Omoniyi (FCA)',\n",
       "       '~\\u202fO. D. AJAYI (CCSP, ACICRM, MICA)', '~\\u202fIbukunoluwa💕💕',\n",
       "       '~\\u202fOyebode Dayo Johnson', '~\\u202fSIR TEE 🖥️🖱️🖨️', 'Mipe',\n",
       "       '~\\u202fNoon Ray Mega Interbiz', '~\\u202fAkin',\n",
       "       '~\\u202fAdedeji Joseph kayode', '~\\u202fPrince Abiodunsebioye',\n",
       "       '~\\u202fVicardTim', '~\\u202fdavidolalekanoladele',\n",
       "       '~\\u202fAdeyemi ABIONA', '~\\u202fKaffy',\n",
       "       '~\\u202fGreatly Blessed Blessing', '~\\u202fDeproowglobal',\n",
       "       '~\\u202f@i_am_Atáyérọ™️ #FOUNDRY', '~\\u202fBF Wears',\n",
       "       '~\\u202fGilded Glow by Keji', '~\\u202ftife69', '~\\u202fOlaitan',\n",
       "       '~\\u202fOdubadians', '~\\u202fTaofeeq Popoola',\n",
       "       '~\\u202fFulfillment Concept 🥰', '~\\u202fMoriireoluwa',\n",
       "       '~\\u202fCrownpet', '~\\u202fOluwaseyitan',\n",
       "       '~\\u202fFatiregun MUSKY Olumuyiwa',\n",
       "       '~\\u202fGraphic Artist, UI/UX Designer & Arts educator.',\n",
       "       '~\\u202fadesuyioluwadunni21', '~\\u202fGlamour',\n",
       "       '~\\u202fPrince Ayodeji Ajakaiye', '~\\u202f..........',\n",
       "       '~\\u202fCornelius Adewale', '~\\u202fOluwakemi', '~\\u202fAboo',\n",
       "       '~\\u202fPrisci Beauty Collections', '~\\u202fAdéloyé',\n",
       "       '~\\u202f07033704366', '~\\u202fỌlálékan',\n",
       "       '~\\u202fTripple Joy Venture', '~\\u202fSmarttechio', 'BiggesT',\n",
       "       '~\\u202fSHINZGADGET', '~\\u202fstephen 🤗',\n",
       "       '~\\u202fAfolayan seun Osinbajo', '~\\u202fFemale Farmer',\n",
       "       '~\\u202ffalolaadekemi', '~\\u202fOlufemi Ayegbo', '~\\u202fHolukay',\n",
       "       '~\\u202f🫰🏽', '~\\u202fCarter', '~\\u202fHolushenour', 'Mr Tosin',\n",
       "       '~\\u202fNOBLE ICT SERVICE LTD', '~\\u202fBAMGUS CONCEPT',\n",
       "       '~\\u202fKazeem Wasiu', '~\\u202fPRINCE ADEGBOYEGA OKE',\n",
       "       '~\\u202fOlayinka',\n",
       "       '~\\u202fWalter Electrical Engineering And Agricultural Services',\n",
       "       '~\\u202fYaphao', '~\\u202fMukadam Sarumi', '~\\u202fGreatnath🎺🎺🎺',\n",
       "       '~\\u202fPolarot IT Consultancy Services', '~\\u202fKhadijat Kazeem',\n",
       "       '~\\u202fFav_Classic Signature', '~Farmwella Nigeria Limited',\n",
       "       '~morioreofegba', '~\\u202fJ.T. Fayanjuola',\n",
       "       '\\u202a+234\\xa0903\\xa0442\\xa07531\\u202c', '~\\u202fSA',\n",
       "       '~NOBLE ICT SERVICE LTD', '~\\u202fPsalm Tech', '~Olufemi Ayegbo',\n",
       "       '~\\u202fMellotech', '~\\u202fadedire2000',\n",
       "       '~\\u202fEngr. Seyi Abolarinwa', '~\\u202fTOSEGZY1❤️🚔',\n",
       "       '~\\u202fADEWALE ALONGE', '~\\u202fTopsheed Technologies',\n",
       "       '~\\u202fADE’DAM 😉', '~\\u202fmorioreofegba', '~\\u202fKAY',\n",
       "       '~Moriireoluwa', '~\\u202fsamkhenny', 'Opeyemi J ADEBOWALE',\n",
       "       '~TOSEGZY1', '~\\u202fFemi Bakare',\n",
       "       '\\u202a+234\\xa0803\\xa0744\\xa02400\\u202c',\n",
       "       '~\\u202fAdemoroti Adetowoju', '~\\u202fOlakunle', '~ADEWALE ALONGE',\n",
       "       '~\\u202f#DrOPA #CVO', '~\\u202foluwashinaayomi', '~Oluwasegun',\n",
       "       '~Cornelius Adewale', '~\\u202fmichkywin', '~SA', '~Oluwakemi',\n",
       "       '~Glamour', '~adesuyioluwadunni21', '~Adedeji Joseph kayode',\n",
       "       '~Fulfillment Concept ', '~Fav_Classic Signature', '~tife69',\n",
       "       '~Femi Bakare', '~\\u202fOlorukometta', '~\\u202fFayne',\n",
       "       '~07033704366', '~Polarot IT Consultancy Services',\n",
       "       '~Female Farmer', '~Afolayan seun Osinbajo', '~',\n",
       "       '~oluwashinaayomi', '~Tripple Joy Venture', '~SHINZGADGET',\n",
       "       '~\\u202fEasy', '~\\u202fkenny', '~\\u202fPersonal Development',\n",
       "       '\\u202a+234\\xa0703\\xa0930\\xa06310\\u202c', '~\\u202fWcpbakes',\n",
       "       '~\\u202f💛', '~\\u202fAjoke Ade🥰'], dtype=object)"
      ]
     },
     "execution_count": 109,
     "metadata": {},
     "output_type": "execute_result"
    }
   ],
   "source": [
    "df.Author.unique() #returns all unique athors means all members of group\n"
   ]
  },
  {
   "cell_type": "code",
   "execution_count": 110,
   "metadata": {},
   "outputs": [
    {
     "name": "stdout",
     "output_type": "stream",
     "text": [
      "<class 'pandas.core.frame.DataFrame'>\n",
      "Index: 1060 entries, 0 to 1094\n",
      "Data columns (total 6 columns):\n",
      " #   Column    Non-Null Count  Dtype \n",
      "---  ------    --------------  ----- \n",
      " 0   Date      1060 non-null   object\n",
      " 1   Time      1060 non-null   object\n",
      " 2   Author    1060 non-null   object\n",
      " 3   Message   1060 non-null   object\n",
      " 4   emoji     1060 non-null   object\n",
      " 5   urlcount  1060 non-null   int64 \n",
      "dtypes: int64(1), object(5)\n",
      "memory usage: 58.0+ KB\n"
     ]
    }
   ],
   "source": [
    "df = df.dropna() #drops all null values\n",
    "df.info()"
   ]
  },
  {
   "cell_type": "code",
   "execution_count": 111,
   "metadata": {},
   "outputs": [
    {
     "name": "stdout",
     "output_type": "stream",
     "text": [
      "1060\n"
     ]
    }
   ],
   "source": [
    "total_messages = df.shape[0]\n",
    "print(total_messages)"
   ]
  },
  {
   "cell_type": "code",
   "execution_count": 112,
   "metadata": {},
   "outputs": [
    {
     "name": "stdout",
     "output_type": "stream",
     "text": [
      "0\n"
     ]
    }
   ],
   "source": [
    "media_messages = df[df['Message'] == '<Media omitted>'].shape[0]\n",
    "print(media_messages)"
   ]
  },
  {
   "cell_type": "code",
   "execution_count": 113,
   "metadata": {},
   "outputs": [
    {
     "name": "stdout",
     "output_type": "stream",
     "text": [
      "98\n"
     ]
    }
   ],
   "source": [
    "emojis = sum(df['emoji'].str.len()) \n",
    "print(emojis)"
   ]
  },
  {
   "cell_type": "code",
   "execution_count": 114,
   "metadata": {},
   "outputs": [
    {
     "name": "stdout",
     "output_type": "stream",
     "text": [
      "31\n"
     ]
    }
   ],
   "source": [
    "URLPATTERN = r'(https?://\\S+)' #regex pattern matching with start with https\n",
    "df['urlcount'] = df.Message.apply(lambda x: re.findall(URLPATTERN, x)).str.len() #return url which matches with pattern and count it through lambda function\n",
    "links = np.sum(df.urlcount) #sumup all the links\n",
    "print(links)"
   ]
  },
  {
   "cell_type": "markdown",
   "metadata": {},
   "source": [
    "## Let us separate media messages and text messages"
   ]
  },
  {
   "cell_type": "code",
   "execution_count": 115,
   "metadata": {},
   "outputs": [],
   "source": [
    "link_messages= df[df['urlcount']>0]\n",
    "deleted_messages=df[(df[\"Message\"] == \" You deleted this message\")| (df[\"Message\"] == \" This message was deleted.\")]\n",
    "media_messages_df = df[(df['Message'] == ' <Media omitted>')|(df['Message'] == ' image omitted')|(df['Message'] == ' video omitted')|(df['Message'] == ' sticker omitted')]\n",
    "messages_df = df.drop(media_messages_df.index)\n",
    "messages_df = messages_df.drop(deleted_messages.index)\n",
    "messages_df = messages_df.drop(link_messages.index)"
   ]
  },
  {
   "cell_type": "code",
   "execution_count": 116,
   "metadata": {},
   "outputs": [
    {
     "name": "stdout",
     "output_type": "stream",
     "text": [
      "<class 'pandas.core.frame.DataFrame'>\n",
      "Index: 973 entries, 0 to 1094\n",
      "Data columns (total 6 columns):\n",
      " #   Column    Non-Null Count  Dtype \n",
      "---  ------    --------------  ----- \n",
      " 0   Date      973 non-null    object\n",
      " 1   Time      973 non-null    object\n",
      " 2   Author    973 non-null    object\n",
      " 3   Message   973 non-null    object\n",
      " 4   emoji     973 non-null    object\n",
      " 5   urlcount  973 non-null    int64 \n",
      "dtypes: int64(1), object(5)\n",
      "memory usage: 53.2+ KB\n"
     ]
    }
   ],
   "source": [
    "messages_df.info()\n"
   ]
  },
  {
   "cell_type": "markdown",
   "metadata": {},
   "source": [
    "## Now let's calculate words and letters "
   ]
  },
  {
   "cell_type": "code",
   "execution_count": 117,
   "metadata": {},
   "outputs": [],
   "source": [
    "messages_df['Letter_Count'] = messages_df['Message'].apply(lambda s : len(s))\n",
    "messages_df['Word_Count'] = messages_df['Message'].apply(lambda s : len(s.split(' '))) #word is calculated by spliting sentence by whitespace\n",
    "messages_df[\"MessageCount\"]=1"
   ]
  },
  {
   "cell_type": "code",
   "execution_count": 118,
   "metadata": {},
   "outputs": [
    {
     "data": {
      "text/html": [
       "<div>\n",
       "<style scoped>\n",
       "    .dataframe tbody tr th:only-of-type {\n",
       "        vertical-align: middle;\n",
       "    }\n",
       "\n",
       "    .dataframe tbody tr th {\n",
       "        vertical-align: top;\n",
       "    }\n",
       "\n",
       "    .dataframe thead th {\n",
       "        text-align: right;\n",
       "    }\n",
       "</style>\n",
       "<table border=\"1\" class=\"dataframe\">\n",
       "  <thead>\n",
       "    <tr style=\"text-align: right;\">\n",
       "      <th></th>\n",
       "      <th>Date</th>\n",
       "      <th>Time</th>\n",
       "      <th>Author</th>\n",
       "      <th>Message</th>\n",
       "      <th>emoji</th>\n",
       "      <th>urlcount</th>\n",
       "      <th>Letter_Count</th>\n",
       "      <th>Word_Count</th>\n",
       "      <th>MessageCount</th>\n",
       "    </tr>\n",
       "  </thead>\n",
       "  <tbody>\n",
       "    <tr>\n",
       "      <th>0</th>\n",
       "      <td>[14/12/2023</td>\n",
       "      <td>10:05</td>\n",
       "      <td>Ijesha Digital Hub Training Cohort 1</td>\n",
       "      <td>‎~ Farmwella Nigeria Limited added you</td>\n",
       "      <td>[]</td>\n",
       "      <td>0</td>\n",
       "      <td>39</td>\n",
       "      <td>6</td>\n",
       "      <td>1</td>\n",
       "    </tr>\n",
       "    <tr>\n",
       "      <th>1</th>\n",
       "      <td>[14/12/2023</td>\n",
       "      <td>10:05</td>\n",
       "      <td>~ Farmwella Nigeria Limited</td>\n",
       "      <td>‎~ Farmwella Nigeria Limited changed this gro...</td>\n",
       "      <td>[]</td>\n",
       "      <td>0</td>\n",
       "      <td>55</td>\n",
       "      <td>8</td>\n",
       "      <td>1</td>\n",
       "    </tr>\n",
       "    <tr>\n",
       "      <th>2</th>\n",
       "      <td>[14/12/2023</td>\n",
       "      <td>10:05</td>\n",
       "      <td>~ Tsmart Solutions.</td>\n",
       "      <td>‎~ Farmwella Nigeria Limited added ~ Tsmart S...</td>\n",
       "      <td>[]</td>\n",
       "      <td>0</td>\n",
       "      <td>55</td>\n",
       "      <td>7</td>\n",
       "      <td>1</td>\n",
       "    </tr>\n",
       "    <tr>\n",
       "      <th>3</th>\n",
       "      <td>[14/12/2023</td>\n",
       "      <td>10:05</td>\n",
       "      <td>~ Alex Omoniyi (FCA)</td>\n",
       "      <td>‎~ Farmwella Nigeria Limited added ~ Alex Omo...</td>\n",
       "      <td>[]</td>\n",
       "      <td>0</td>\n",
       "      <td>56</td>\n",
       "      <td>8</td>\n",
       "      <td>1</td>\n",
       "    </tr>\n",
       "    <tr>\n",
       "      <th>4</th>\n",
       "      <td>[14/12/2023</td>\n",
       "      <td>10:05</td>\n",
       "      <td>~ O. D. AJAYI (CCSP, ACICRM, MICA)</td>\n",
       "      <td>‎~ Farmwella Nigeria Limited added ~ O. D. AJ...</td>\n",
       "      <td>[]</td>\n",
       "      <td>0</td>\n",
       "      <td>70</td>\n",
       "      <td>11</td>\n",
       "      <td>1</td>\n",
       "    </tr>\n",
       "    <tr>\n",
       "      <th>5</th>\n",
       "      <td>[14/12/2023</td>\n",
       "      <td>10:05</td>\n",
       "      <td>~ Ibukunoluwa💕💕</td>\n",
       "      <td>‎~ Farmwella Nigeria Limited added ~ Ibukunol...</td>\n",
       "      <td>[💕, 💕]</td>\n",
       "      <td>0</td>\n",
       "      <td>51</td>\n",
       "      <td>6</td>\n",
       "      <td>1</td>\n",
       "    </tr>\n",
       "    <tr>\n",
       "      <th>6</th>\n",
       "      <td>[14/12/2023</td>\n",
       "      <td>10:06</td>\n",
       "      <td>~ Oyebode Dayo Johnson</td>\n",
       "      <td>‎~ Farmwella Nigeria Limited added ~ Oyebode ...</td>\n",
       "      <td>[]</td>\n",
       "      <td>0</td>\n",
       "      <td>58</td>\n",
       "      <td>8</td>\n",
       "      <td>1</td>\n",
       "    </tr>\n",
       "    <tr>\n",
       "      <th>7</th>\n",
       "      <td>[14/12/2023</td>\n",
       "      <td>10:06</td>\n",
       "      <td>~ SIR TEE 🖥️🖱️🖨️</td>\n",
       "      <td>‎~ Farmwella Nigeria Limited added ~ SIR TEE ...</td>\n",
       "      <td>[🖥️, 🖱️, 🖨️]</td>\n",
       "      <td>0</td>\n",
       "      <td>52</td>\n",
       "      <td>8</td>\n",
       "      <td>1</td>\n",
       "    </tr>\n",
       "    <tr>\n",
       "      <th>8</th>\n",
       "      <td>[14/12/2023</td>\n",
       "      <td>10:06</td>\n",
       "      <td>Mipe</td>\n",
       "      <td>‎~ Farmwella Nigeria Limited added Mipe</td>\n",
       "      <td>[]</td>\n",
       "      <td>0</td>\n",
       "      <td>40</td>\n",
       "      <td>6</td>\n",
       "      <td>1</td>\n",
       "    </tr>\n",
       "    <tr>\n",
       "      <th>9</th>\n",
       "      <td>[14/12/2023</td>\n",
       "      <td>10:09</td>\n",
       "      <td>~ Noon Ray Mega Interbiz</td>\n",
       "      <td>‎~ Farmwella Nigeria Limited added ~ Noon Ray...</td>\n",
       "      <td>[]</td>\n",
       "      <td>0</td>\n",
       "      <td>60</td>\n",
       "      <td>9</td>\n",
       "      <td>1</td>\n",
       "    </tr>\n",
       "  </tbody>\n",
       "</table>\n",
       "</div>"
      ],
      "text/plain": [
       "          Date    Time                                Author  \\\n",
       "0  [14/12/2023   10:05  Ijesha Digital Hub Training Cohort 1   \n",
       "1  [14/12/2023   10:05           ~ Farmwella Nigeria Limited   \n",
       "2  [14/12/2023   10:05                   ~ Tsmart Solutions.   \n",
       "3  [14/12/2023   10:05                  ~ Alex Omoniyi (FCA)   \n",
       "4  [14/12/2023   10:05    ~ O. D. AJAYI (CCSP, ACICRM, MICA)   \n",
       "5  [14/12/2023   10:05                       ~ Ibukunoluwa💕💕   \n",
       "6  [14/12/2023   10:06                ~ Oyebode Dayo Johnson   \n",
       "7  [14/12/2023   10:06                      ~ SIR TEE 🖥️🖱️🖨️   \n",
       "8  [14/12/2023   10:06                                  Mipe   \n",
       "9  [14/12/2023   10:09              ~ Noon Ray Mega Interbiz   \n",
       "\n",
       "                                             Message         emoji  urlcount  \\\n",
       "0             ‎~ Farmwella Nigeria Limited added you            []         0   \n",
       "1   ‎~ Farmwella Nigeria Limited changed this gro...            []         0   \n",
       "2   ‎~ Farmwella Nigeria Limited added ~ Tsmart S...            []         0   \n",
       "3   ‎~ Farmwella Nigeria Limited added ~ Alex Omo...            []         0   \n",
       "4   ‎~ Farmwella Nigeria Limited added ~ O. D. AJ...            []         0   \n",
       "5   ‎~ Farmwella Nigeria Limited added ~ Ibukunol...        [💕, 💕]         0   \n",
       "6   ‎~ Farmwella Nigeria Limited added ~ Oyebode ...            []         0   \n",
       "7   ‎~ Farmwella Nigeria Limited added ~ SIR TEE ...  [🖥️, 🖱️, 🖨️]         0   \n",
       "8            ‎~ Farmwella Nigeria Limited added Mipe            []         0   \n",
       "9   ‎~ Farmwella Nigeria Limited added ~ Noon Ray...            []         0   \n",
       "\n",
       "   Letter_Count  Word_Count  MessageCount  \n",
       "0            39           6             1  \n",
       "1            55           8             1  \n",
       "2            55           7             1  \n",
       "3            56           8             1  \n",
       "4            70          11             1  \n",
       "5            51           6             1  \n",
       "6            58           8             1  \n",
       "7            52           8             1  \n",
       "8            40           6             1  \n",
       "9            60           9             1  "
      ]
     },
     "execution_count": 118,
     "metadata": {},
     "output_type": "execute_result"
    }
   ],
   "source": [
    "messages_df.head(10)\n"
   ]
  },
  {
   "cell_type": "code",
   "execution_count": 119,
   "metadata": {},
   "outputs": [],
   "source": [
    "messages_df[\"emojicount\"]= df['emoji'].str.len()\n"
   ]
  },
  {
   "cell_type": "markdown",
   "metadata": {},
   "source": [
    "## Author wise"
   ]
  },
  {
   "cell_type": "code",
   "execution_count": 120,
   "metadata": {},
   "outputs": [
    {
     "name": "stdout",
     "output_type": "stream",
     "text": [
      "Stats of Ijesha Digital Hub Training Cohort 1 -\n",
      "Messages Sent 3\n",
      "Words per message 8.0\n",
      "Media Messages Sent 0\n",
      "Emojis Sent 0\n",
      "Links Sent 0\n",
      "\n",
      "Stats of ~ Farmwella Nigeria Limited -\n",
      "Messages Sent 36\n",
      "Words per message 25.416666666666668\n",
      "Media Messages Sent 0\n",
      "Emojis Sent 0\n",
      "Links Sent 4\n",
      "\n",
      "Stats of ~ Tsmart Solutions. -\n",
      "Messages Sent 3\n",
      "Words per message 19.666666666666668\n",
      "Media Messages Sent 0\n",
      "Emojis Sent 0\n",
      "Links Sent 0\n",
      "\n",
      "Stats of ~ Alex Omoniyi (FCA) -\n",
      "Messages Sent 4\n",
      "Words per message 14.75\n",
      "Media Messages Sent 0\n",
      "Emojis Sent 0\n",
      "Links Sent 0\n",
      "\n",
      "Stats of ~ O. D. AJAYI (CCSP, ACICRM, MICA) -\n",
      "Messages Sent 11\n",
      "Words per message 16.09090909090909\n",
      "Media Messages Sent 0\n",
      "Emojis Sent 0\n",
      "Links Sent 0\n",
      "\n",
      "Stats of ~ Ibukunoluwa💕💕 -\n",
      "Messages Sent 8\n",
      "Words per message 13.375\n",
      "Media Messages Sent 0\n",
      "Emojis Sent 3\n",
      "Links Sent 0\n",
      "\n",
      "Stats of ~ Oyebode Dayo Johnson -\n",
      "Messages Sent 17\n",
      "Words per message 18.529411764705884\n",
      "Media Messages Sent 0\n",
      "Emojis Sent 0\n",
      "Links Sent 0\n",
      "\n",
      "Stats of ~ SIR TEE 🖥️🖱️🖨️ -\n",
      "Messages Sent 18\n",
      "Words per message 25.11111111111111\n",
      "Media Messages Sent 0\n",
      "Emojis Sent 3\n",
      "Links Sent 0\n",
      "\n",
      "Stats of Mipe -\n",
      "Messages Sent 13\n",
      "Words per message 12.0\n",
      "Media Messages Sent 1\n",
      "Emojis Sent 2\n",
      "Links Sent 0\n",
      "\n",
      "Stats of ~ Noon Ray Mega Interbiz -\n",
      "Messages Sent 2\n",
      "Words per message 41.0\n",
      "Media Messages Sent 0\n",
      "Emojis Sent 0\n",
      "Links Sent 0\n",
      "\n",
      "Stats of ~ Akin -\n",
      "Messages Sent 12\n",
      "Words per message 15.25\n",
      "Media Messages Sent 0\n",
      "Emojis Sent 0\n",
      "Links Sent 0\n",
      "\n",
      "Stats of ~ Adedeji Joseph kayode -\n",
      "Messages Sent 3\n",
      "Words per message 8.666666666666666\n",
      "Media Messages Sent 0\n",
      "Emojis Sent 0\n",
      "Links Sent 0\n",
      "\n",
      "Stats of ~ Prince Abiodunsebioye -\n",
      "Messages Sent 9\n",
      "Words per message 17.444444444444443\n",
      "Media Messages Sent 0\n",
      "Emojis Sent 0\n",
      "Links Sent 0\n",
      "\n",
      "Stats of ~ VicardTim -\n",
      "Messages Sent 18\n",
      "Words per message 12.555555555555555\n",
      "Media Messages Sent 0\n",
      "Emojis Sent 3\n",
      "Links Sent 0\n",
      "\n",
      "Stats of ~ davidolalekanoladele -\n",
      "Messages Sent 10\n",
      "Words per message 12.9\n",
      "Media Messages Sent 0\n",
      "Emojis Sent 3\n",
      "Links Sent 0\n",
      "\n",
      "Stats of ~ Adeyemi ABIONA -\n",
      "Messages Sent 7\n",
      "Words per message 16.0\n",
      "Media Messages Sent 0\n",
      "Emojis Sent 0\n",
      "Links Sent 0\n",
      "\n",
      "Stats of ~ Kaffy -\n",
      "Messages Sent 8\n",
      "Words per message 12.125\n",
      "Media Messages Sent 0\n",
      "Emojis Sent 0\n",
      "Links Sent 0\n",
      "\n",
      "Stats of ~ Greatly Blessed Blessing -\n",
      "Messages Sent 5\n",
      "Words per message 15.8\n",
      "Media Messages Sent 0\n",
      "Emojis Sent 0\n",
      "Links Sent 0\n",
      "\n",
      "Stats of ~ Deproowglobal -\n",
      "Messages Sent 9\n",
      "Words per message 9.88888888888889\n",
      "Media Messages Sent 0\n",
      "Emojis Sent 0\n",
      "Links Sent 0\n",
      "\n",
      "Stats of ~ @i_am_Atáyérọ™️ #FOUNDRY -\n",
      "Messages Sent 17\n",
      "Words per message 26.470588235294116\n",
      "Media Messages Sent 0\n",
      "Emojis Sent 1\n",
      "Links Sent 0\n",
      "\n",
      "Stats of ~ BF Wears -\n",
      "Messages Sent 3\n",
      "Words per message 8.666666666666666\n",
      "Media Messages Sent 0\n",
      "Emojis Sent 0\n",
      "Links Sent 0\n",
      "\n",
      "Stats of ~ Gilded Glow by Keji -\n",
      "Messages Sent 2\n",
      "Words per message 35.5\n",
      "Media Messages Sent 0\n",
      "Emojis Sent 0\n",
      "Links Sent 0\n",
      "\n",
      "Stats of ~ tife69 -\n",
      "Messages Sent 3\n",
      "Words per message 13.333333333333334\n",
      "Media Messages Sent 0\n",
      "Emojis Sent 0\n",
      "Links Sent 0\n",
      "\n",
      "Stats of ~ Olaitan -\n",
      "Messages Sent 6\n",
      "Words per message 12.166666666666666\n",
      "Media Messages Sent 0\n",
      "Emojis Sent 0\n",
      "Links Sent 0\n",
      "\n",
      "Stats of ~ Odubadians -\n",
      "Messages Sent 4\n",
      "Words per message 8.0\n",
      "Media Messages Sent 0\n",
      "Emojis Sent 0\n",
      "Links Sent 0\n",
      "\n",
      "Stats of ~ Taofeeq Popoola -\n",
      "Messages Sent 10\n",
      "Words per message 25.5\n",
      "Media Messages Sent 0\n",
      "Emojis Sent 0\n",
      "Links Sent 0\n",
      "\n",
      "Stats of ~ Fulfillment Concept 🥰 -\n",
      "Messages Sent 21\n",
      "Words per message 15.380952380952381\n",
      "Media Messages Sent 0\n",
      "Emojis Sent 7\n",
      "Links Sent 0\n",
      "\n",
      "Stats of ~ Moriireoluwa -\n",
      "Messages Sent 12\n",
      "Words per message 19.916666666666668\n",
      "Media Messages Sent 0\n",
      "Emojis Sent 0\n",
      "Links Sent 0\n",
      "\n",
      "Stats of ~ Crownpet -\n",
      "Messages Sent 3\n",
      "Words per message 5.0\n",
      "Media Messages Sent 0\n",
      "Emojis Sent 0\n",
      "Links Sent 0\n",
      "\n",
      "Stats of ~ Oluwaseyitan -\n",
      "Messages Sent 2\n",
      "Words per message 5.0\n",
      "Media Messages Sent 0\n",
      "Emojis Sent 0\n",
      "Links Sent 0\n",
      "\n",
      "Stats of ~ Fatiregun MUSKY Olumuyiwa -\n",
      "Messages Sent 10\n",
      "Words per message 13.1\n",
      "Media Messages Sent 0\n",
      "Emojis Sent 0\n",
      "Links Sent 0\n",
      "\n",
      "Stats of ~ Graphic Artist, UI/UX Designer & Arts educator. -\n",
      "Messages Sent 8\n",
      "Words per message 15.625\n",
      "Media Messages Sent 0\n",
      "Emojis Sent 0\n",
      "Links Sent 0\n",
      "\n",
      "Stats of ~ adesuyioluwadunni21 -\n",
      "Messages Sent 13\n",
      "Words per message 11.846153846153847\n",
      "Media Messages Sent 0\n",
      "Emojis Sent 0\n",
      "Links Sent 0\n",
      "\n",
      "Stats of ~ Glamour -\n",
      "Messages Sent 12\n",
      "Words per message 10.083333333333334\n",
      "Media Messages Sent 0\n",
      "Emojis Sent 1\n",
      "Links Sent 0\n",
      "\n",
      "Stats of ~ Prince Ayodeji Ajakaiye -\n",
      "Messages Sent 5\n",
      "Words per message 11.8\n",
      "Media Messages Sent 0\n",
      "Emojis Sent 1\n",
      "Links Sent 0\n",
      "\n",
      "Stats of ~ .......... -\n",
      "Messages Sent 1\n",
      "Words per message 6.0\n",
      "Media Messages Sent 0\n",
      "Emojis Sent 0\n",
      "Links Sent 0\n",
      "\n",
      "Stats of ~ Cornelius Adewale -\n",
      "Messages Sent 5\n",
      "Words per message 38.8\n",
      "Media Messages Sent 0\n",
      "Emojis Sent 0\n",
      "Links Sent 0\n",
      "\n",
      "Stats of ~ Oluwakemi -\n",
      "Messages Sent 24\n",
      "Words per message 7.833333333333333\n",
      "Media Messages Sent 0\n",
      "Emojis Sent 0\n",
      "Links Sent 0\n",
      "\n",
      "Stats of ~ Aboo -\n",
      "Messages Sent 10\n",
      "Words per message 12.0\n",
      "Media Messages Sent 0\n",
      "Emojis Sent 0\n",
      "Links Sent 0\n",
      "\n",
      "Stats of ~ Prisci Beauty Collections -\n",
      "Messages Sent 4\n",
      "Words per message 15.25\n",
      "Media Messages Sent 0\n",
      "Emojis Sent 0\n",
      "Links Sent 0\n",
      "\n",
      "Stats of ~ Adéloyé -\n",
      "Messages Sent 2\n",
      "Words per message 13.0\n",
      "Media Messages Sent 0\n",
      "Emojis Sent 0\n",
      "Links Sent 0\n",
      "\n",
      "Stats of ~ 07033704366 -\n",
      "Messages Sent 20\n",
      "Words per message 13.2\n",
      "Media Messages Sent 0\n",
      "Emojis Sent 3\n",
      "Links Sent 0\n",
      "\n",
      "Stats of ~ Ọlálékan -\n",
      "Messages Sent 5\n",
      "Words per message 18.4\n",
      "Media Messages Sent 0\n",
      "Emojis Sent 1\n",
      "Links Sent 0\n",
      "\n",
      "Stats of ~ Tripple Joy Venture -\n",
      "Messages Sent 18\n",
      "Words per message 8.38888888888889\n",
      "Media Messages Sent 0\n",
      "Emojis Sent 0\n",
      "Links Sent 0\n",
      "\n",
      "Stats of ~ Smarttechio -\n",
      "Messages Sent 5\n",
      "Words per message 37.8\n",
      "Media Messages Sent 0\n",
      "Emojis Sent 0\n",
      "Links Sent 1\n",
      "\n",
      "Stats of BiggesT -\n",
      "Messages Sent 4\n",
      "Words per message 28.5\n",
      "Media Messages Sent 2\n",
      "Emojis Sent 0\n",
      "Links Sent 0\n",
      "\n",
      "Stats of ~ SHINZGADGET -\n",
      "Messages Sent 4\n",
      "Words per message 12.5\n",
      "Media Messages Sent 0\n",
      "Emojis Sent 0\n",
      "Links Sent 0\n",
      "\n",
      "Stats of ~ stephen 🤗 -\n",
      "Messages Sent 1\n",
      "Words per message 35.0\n",
      "Media Messages Sent 0\n",
      "Emojis Sent 0\n",
      "Links Sent 0\n",
      "\n",
      "Stats of ~ Afolayan seun Osinbajo -\n",
      "Messages Sent 10\n",
      "Words per message 17.5\n",
      "Media Messages Sent 0\n",
      "Emojis Sent 0\n",
      "Links Sent 0\n",
      "\n",
      "Stats of ~ Female Farmer -\n",
      "Messages Sent 16\n",
      "Words per message 12.5625\n",
      "Media Messages Sent 0\n",
      "Emojis Sent 2\n",
      "Links Sent 1\n",
      "\n",
      "Stats of ~ falolaadekemi -\n",
      "Messages Sent 8\n",
      "Words per message 10.25\n",
      "Media Messages Sent 0\n",
      "Emojis Sent 3\n",
      "Links Sent 0\n",
      "\n",
      "Stats of ~ Olufemi Ayegbo -\n",
      "Messages Sent 9\n",
      "Words per message 31.77777777777778\n",
      "Media Messages Sent 0\n",
      "Emojis Sent 0\n",
      "Links Sent 0\n",
      "\n",
      "Stats of ~ Holukay -\n",
      "Messages Sent 9\n",
      "Words per message 16.666666666666668\n",
      "Media Messages Sent 0\n",
      "Emojis Sent 0\n",
      "Links Sent 0\n",
      "\n",
      "Stats of ~ 🫰🏽 -\n",
      "Messages Sent 5\n",
      "Words per message 14.6\n",
      "Media Messages Sent 0\n",
      "Emojis Sent 1\n",
      "Links Sent 0\n",
      "\n",
      "Stats of ~ Carter -\n",
      "Messages Sent 18\n",
      "Words per message 19.166666666666668\n",
      "Media Messages Sent 0\n",
      "Emojis Sent 2\n",
      "Links Sent 0\n",
      "\n",
      "Stats of ~ Holushenour -\n",
      "Messages Sent 16\n",
      "Words per message 29.8125\n",
      "Media Messages Sent 0\n",
      "Emojis Sent 0\n",
      "Links Sent 0\n",
      "\n",
      "Stats of Mr Tosin -\n",
      "Messages Sent 8\n",
      "Words per message 17.75\n",
      "Media Messages Sent 0\n",
      "Emojis Sent 0\n",
      "Links Sent 0\n",
      "\n",
      "Stats of ~ NOBLE ICT SERVICE LTD -\n",
      "Messages Sent 7\n",
      "Words per message 15.142857142857142\n",
      "Media Messages Sent 0\n",
      "Emojis Sent 3\n",
      "Links Sent 0\n",
      "\n",
      "Stats of ~ BAMGUS CONCEPT -\n",
      "Messages Sent 4\n",
      "Words per message 3.25\n",
      "Media Messages Sent 0\n",
      "Emojis Sent 0\n",
      "Links Sent 0\n",
      "\n",
      "Stats of ~ Kazeem Wasiu -\n",
      "Messages Sent 81\n",
      "Words per message 17.604938271604937\n",
      "Media Messages Sent 0\n",
      "Emojis Sent 3\n",
      "Links Sent 0\n",
      "\n",
      "Stats of ~ PRINCE ADEGBOYEGA OKE -\n",
      "Messages Sent 3\n",
      "Words per message 20.666666666666668\n",
      "Media Messages Sent 0\n",
      "Emojis Sent 0\n",
      "Links Sent 0\n",
      "\n",
      "Stats of ~ Olayinka -\n",
      "Messages Sent 6\n",
      "Words per message 10.333333333333334\n",
      "Media Messages Sent 0\n",
      "Emojis Sent 0\n",
      "Links Sent 1\n",
      "\n",
      "Stats of ~ Walter Electrical Engineering And Agricultural Services -\n",
      "Messages Sent 7\n",
      "Words per message 9.714285714285714\n",
      "Media Messages Sent 0\n",
      "Emojis Sent 0\n",
      "Links Sent 0\n",
      "\n",
      "Stats of ~ Yaphao -\n",
      "Messages Sent 11\n",
      "Words per message 18.454545454545453\n",
      "Media Messages Sent 0\n",
      "Emojis Sent 0\n",
      "Links Sent 0\n",
      "\n",
      "Stats of ~ Mukadam Sarumi -\n",
      "Messages Sent 2\n",
      "Words per message 33.0\n",
      "Media Messages Sent 0\n",
      "Emojis Sent 0\n",
      "Links Sent 0\n",
      "\n",
      "Stats of ~ Greatnath🎺🎺🎺 -\n",
      "Messages Sent 7\n",
      "Words per message 20.428571428571427\n",
      "Media Messages Sent 0\n",
      "Emojis Sent 0\n",
      "Links Sent 0\n",
      "\n",
      "Stats of ~ Polarot IT Consultancy Services -\n",
      "Messages Sent 6\n",
      "Words per message 15.5\n",
      "Media Messages Sent 0\n",
      "Emojis Sent 0\n",
      "Links Sent 0\n",
      "\n",
      "Stats of ~ Khadijat Kazeem -\n",
      "Messages Sent 4\n",
      "Words per message 15.0\n",
      "Media Messages Sent 0\n",
      "Emojis Sent 0\n",
      "Links Sent 0\n",
      "\n",
      "Stats of ~ Fav_Classic Signature -\n",
      "Messages Sent 8\n",
      "Words per message 16.5\n",
      "Media Messages Sent 0\n",
      "Emojis Sent 0\n",
      "Links Sent 0\n",
      "\n",
      "Stats of ~Farmwella Nigeria Limited -\n",
      "Messages Sent 4\n",
      "Words per message 5.5\n",
      "Media Messages Sent 0\n",
      "Emojis Sent 0\n",
      "Links Sent 0\n",
      "\n",
      "Stats of ~morioreofegba -\n",
      "Messages Sent 1\n",
      "Words per message 3.0\n",
      "Media Messages Sent 2\n",
      "Emojis Sent 0\n",
      "Links Sent 0\n",
      "\n",
      "Stats of ~ J.T. Fayanjuola -\n",
      "Messages Sent 1\n",
      "Words per message 6.0\n",
      "Media Messages Sent 0\n",
      "Emojis Sent 0\n",
      "Links Sent 0\n",
      "\n",
      "Stats of ‪+234 903 442 7531‬ -\n",
      "Messages Sent 1\n",
      "Words per message 6.0\n",
      "Media Messages Sent 0\n",
      "Emojis Sent 0\n",
      "Links Sent 0\n",
      "\n",
      "Stats of ~ SA -\n",
      "Messages Sent 11\n",
      "Words per message 11.181818181818182\n",
      "Media Messages Sent 0\n",
      "Emojis Sent 0\n",
      "Links Sent 0\n",
      "\n",
      "Stats of ~ Psalm Tech -\n",
      "Messages Sent 4\n",
      "Words per message 6.75\n",
      "Media Messages Sent 0\n",
      "Emojis Sent 0\n",
      "Links Sent 0\n",
      "\n",
      "Stats of ~ Mellotech -\n",
      "Messages Sent 17\n",
      "Words per message 21.352941176470587\n",
      "Media Messages Sent 0\n",
      "Emojis Sent 9\n",
      "Links Sent 0\n",
      "\n",
      "Stats of ~ adedire2000 -\n",
      "Messages Sent 2\n",
      "Words per message 30.0\n",
      "Media Messages Sent 0\n",
      "Emojis Sent 0\n",
      "Links Sent 0\n",
      "\n",
      "Stats of ~ Engr. Seyi Abolarinwa -\n",
      "Messages Sent 4\n",
      "Words per message 32.5\n",
      "Media Messages Sent 0\n",
      "Emojis Sent 0\n",
      "Links Sent 0\n",
      "\n",
      "Stats of ~ TOSEGZY1❤️🚔 -\n",
      "Messages Sent 13\n",
      "Words per message 11.923076923076923\n",
      "Media Messages Sent 0\n",
      "Emojis Sent 4\n",
      "Links Sent 0\n",
      "\n",
      "Stats of ~ ADEWALE ALONGE -\n",
      "Messages Sent 28\n",
      "Words per message 103.03571428571429\n",
      "Media Messages Sent 0\n",
      "Emojis Sent 1\n",
      "Links Sent 12\n",
      "\n",
      "Stats of ~ Topsheed Technologies -\n",
      "Messages Sent 4\n",
      "Words per message 116.5\n",
      "Media Messages Sent 0\n",
      "Emojis Sent 0\n",
      "Links Sent 0\n",
      "\n",
      "Stats of ~ ADE’DAM 😉 -\n",
      "Messages Sent 2\n",
      "Words per message 7.0\n",
      "Media Messages Sent 0\n",
      "Emojis Sent 0\n",
      "Links Sent 0\n",
      "\n",
      "Stats of ~ morioreofegba -\n",
      "Messages Sent 13\n",
      "Words per message 18.076923076923077\n",
      "Media Messages Sent 0\n",
      "Emojis Sent 4\n",
      "Links Sent 0\n",
      "\n",
      "Stats of ~ KAY -\n",
      "Messages Sent 29\n",
      "Words per message 14.793103448275861\n",
      "Media Messages Sent 0\n",
      "Emojis Sent 6\n",
      "Links Sent 0\n",
      "\n",
      "Stats of ~Moriireoluwa -\n",
      "Messages Sent 1\n",
      "Words per message 3.0\n",
      "Media Messages Sent 2\n",
      "Emojis Sent 0\n",
      "Links Sent 0\n",
      "\n",
      "Stats of ~ samkhenny -\n",
      "Messages Sent 26\n",
      "Words per message 15.307692307692308\n",
      "Media Messages Sent 0\n",
      "Emojis Sent 18\n",
      "Links Sent 1\n",
      "\n",
      "Stats of Opeyemi J ADEBOWALE -\n",
      "Messages Sent 26\n",
      "Words per message 28.423076923076923\n",
      "Media Messages Sent 2\n",
      "Emojis Sent 0\n",
      "Links Sent 6\n",
      "\n",
      "Stats of ~Olufemi Ayegbo -\n",
      "Messages Sent 1\n",
      "Words per message 3.0\n",
      "Media Messages Sent 3\n",
      "Emojis Sent 0\n",
      "Links Sent 0\n",
      "\n",
      "Stats of ~ Femi Bakare -\n",
      "Messages Sent 62\n",
      "Words per message 26.887096774193548\n",
      "Media Messages Sent 0\n",
      "Emojis Sent 4\n",
      "Links Sent 3\n",
      "\n",
      "Stats of ‪+234 803 744 2400‬ -\n",
      "Messages Sent 1\n",
      "Words per message 6.0\n",
      "Media Messages Sent 0\n",
      "Emojis Sent 0\n",
      "Links Sent 0\n",
      "\n",
      "Stats of ~ Ademoroti Adetowoju -\n",
      "Messages Sent 1\n",
      "Words per message 6.0\n",
      "Media Messages Sent 0\n",
      "Emojis Sent 0\n",
      "Links Sent 0\n",
      "\n",
      "Stats of ~ Olakunle -\n",
      "Messages Sent 1\n",
      "Words per message 7.0\n",
      "Media Messages Sent 0\n",
      "Emojis Sent 1\n",
      "Links Sent 0\n",
      "\n",
      "Stats of ~ #DrOPA #CVO -\n",
      "Messages Sent 2\n",
      "Words per message 25.0\n",
      "Media Messages Sent 0\n",
      "Emojis Sent 0\n",
      "Links Sent 0\n",
      "\n",
      "Stats of ~ oluwashinaayomi -\n",
      "Messages Sent 18\n",
      "Words per message 18.333333333333332\n",
      "Media Messages Sent 0\n",
      "Emojis Sent 3\n",
      "Links Sent 2\n",
      "\n",
      "Stats of ~Cornelius Adewale -\n",
      "Messages Sent 1\n",
      "Words per message 12.0\n",
      "Media Messages Sent 0\n",
      "Emojis Sent 0\n",
      "Links Sent 0\n",
      "\n",
      "Stats of ~ michkywin -\n",
      "Messages Sent 2\n",
      "Words per message 14.5\n",
      "Media Messages Sent 0\n",
      "Emojis Sent 0\n",
      "Links Sent 0\n",
      "\n",
      "Stats of ~ Olorukometta -\n",
      "Messages Sent 2\n",
      "Words per message 10.0\n",
      "Media Messages Sent 0\n",
      "Emojis Sent 0\n",
      "Links Sent 0\n",
      "\n",
      "Stats of ~ Fayne -\n",
      "Messages Sent 1\n",
      "Words per message 10.0\n",
      "Media Messages Sent 0\n",
      "Emojis Sent 0\n",
      "Links Sent 0\n",
      "\n",
      "Stats of ~Polarot IT Consultancy Services -\n",
      "Messages Sent 1\n",
      "Words per message 3.0\n",
      "Media Messages Sent 0\n",
      "Emojis Sent 0\n",
      "Links Sent 0\n",
      "\n",
      "Stats of ~ Easy -\n",
      "Messages Sent 8\n",
      "Words per message 16.25\n",
      "Media Messages Sent 0\n",
      "Emojis Sent 0\n",
      "Links Sent 0\n",
      "\n",
      "Stats of ~ kenny -\n",
      "Messages Sent 4\n",
      "Words per message 6.0\n",
      "Media Messages Sent 0\n",
      "Emojis Sent 0\n",
      "Links Sent 0\n",
      "\n",
      "Stats of ~ Personal Development -\n",
      "Messages Sent 1\n",
      "Words per message 5.0\n",
      "Media Messages Sent 0\n",
      "Emojis Sent 1\n",
      "Links Sent 0\n",
      "\n",
      "Stats of ‪+234 703 930 6310‬ -\n",
      "Messages Sent 1\n",
      "Words per message 5.0\n",
      "Media Messages Sent 0\n",
      "Emojis Sent 0\n",
      "Links Sent 0\n",
      "\n",
      "Stats of ~ Wcpbakes -\n",
      "Messages Sent 2\n",
      "Words per message 6.5\n",
      "Media Messages Sent 0\n",
      "Emojis Sent 0\n",
      "Links Sent 0\n",
      "\n",
      "Stats of ~ 💛 -\n",
      "Messages Sent 1\n",
      "Words per message 3.0\n",
      "Media Messages Sent 0\n",
      "Emojis Sent 0\n",
      "Links Sent 0\n",
      "\n",
      "Stats of ~ Ajoke Ade🥰 -\n",
      "Messages Sent 1\n",
      "Words per message 7.0\n",
      "Media Messages Sent 0\n",
      "Emojis Sent 1\n",
      "Links Sent 0\n",
      "\n"
     ]
    }
   ],
   "source": [
    "frnds = messages_df.Author.unique()\n",
    "\n",
    "for i in range(len(frnds)):\n",
    "  # Filtering out messages of particular user\n",
    "  req_df= messages_df[messages_df[\"Author\"] == frnds[i]]\n",
    "  # req_df will contain messages of only one particular user\n",
    "  print(f'Stats of {frnds[i]} -')\n",
    "  # shape will print number of rows which indirectly means the number of messages\n",
    "  print('Messages Sent', req_df.shape[0])\n",
    "  #Word_Count contains of total words in one message. Sum of all words/ Total Messages will yield words per message\n",
    "  words_per_message = (np.sum(req_df['Word_Count']))/req_df.shape[0]\n",
    "  print('Words per message', words_per_message)\n",
    "  #media conists of media messages\n",
    "  media = media_messages_df[media_messages_df['Author'] == frnds[i]].shape[0]\n",
    "  print('Media Messages Sent', media)\n",
    "  # emojis conists of total emojis\n",
    "  emojis = sum(req_df['emoji'].str.len())\n",
    "  print('Emojis Sent', emojis)\n",
    "  #links consist of total links\n",
    "  links = sum(link_messages[link_messages['Author'] == frnds[i]][\"urlcount\"])   \n",
    "  print('Links Sent', links)   \n",
    "  print()"
   ]
  },
  {
   "cell_type": "markdown",
   "metadata": {},
   "source": [
    "# unique emojis"
   ]
  },
  {
   "cell_type": "code",
   "execution_count": 121,
   "metadata": {},
   "outputs": [
    {
     "name": "stdout",
     "output_type": "stream",
     "text": [
      "40\n"
     ]
    }
   ],
   "source": [
    "total_emojis_list = list(set([a for b in messages_df.emoji for a in b]))\n",
    "total_emojis = len(total_emojis_list)\n",
    "print(total_emojis)"
   ]
  },
  {
   "cell_type": "markdown",
   "metadata": {},
   "source": [
    "# Most used emoji"
   ]
  },
  {
   "cell_type": "code",
   "execution_count": 122,
   "metadata": {},
   "outputs": [
    {
     "name": "stdout",
     "output_type": "stream",
     "text": [
      "[('🙏', 16), ('🫡', 8), ('✅', 5), ('👆', 5), ('🙇\\u200d♂️', 4), ('😂', 4), ('😊', 3), ('✍️', 3), ('👏', 3), ('😨', 3), ('🤦\\u200d♂️', 3), ('👇', 3), ('💕', 2), ('🥰', 2), ('🙌', 2), ('👍🏽', 2), ('🤣', 2), ('🎊', 2), ('🖥️', 1), ('🖱️', 1), ('🖨️', 1), ('™️', 1), ('🖥', 1), ('❤️', 1), ('🚔', 1), ('😀', 1), ('🙏🏽', 1), ('👍🏼', 1), ('🤩', 1), ('🥺', 1), ('💯', 1), ('🤖', 1), ('🛡️', 1), ('🤷🏽\\u200d♂️', 1), ('😄', 1), ('🫣', 1), ('😁', 1), ('👌', 1), ('🥵', 1), ('👍', 1)]\n"
     ]
    }
   ],
   "source": [
    "total_emojis_list = list([a for b in messages_df.emoji for a in b])\n",
    "emoji_dict = dict(Counter(total_emojis_list))\n",
    "emoji_dict = sorted(emoji_dict.items(), key=lambda x: x[1], reverse=True)\n",
    "print(emoji_dict)"
   ]
  },
  {
   "cell_type": "code",
   "execution_count": 123,
   "metadata": {},
   "outputs": [
    {
     "data": {
      "text/html": [
       "<div>\n",
       "<style scoped>\n",
       "    .dataframe tbody tr th:only-of-type {\n",
       "        vertical-align: middle;\n",
       "    }\n",
       "\n",
       "    .dataframe tbody tr th {\n",
       "        vertical-align: top;\n",
       "    }\n",
       "\n",
       "    .dataframe thead th {\n",
       "        text-align: right;\n",
       "    }\n",
       "</style>\n",
       "<table border=\"1\" class=\"dataframe\">\n",
       "  <thead>\n",
       "    <tr style=\"text-align: right;\">\n",
       "      <th></th>\n",
       "      <th>emoji</th>\n",
       "      <th>count</th>\n",
       "    </tr>\n",
       "  </thead>\n",
       "  <tbody>\n",
       "    <tr>\n",
       "      <th>0</th>\n",
       "      <td>🙏</td>\n",
       "      <td>16</td>\n",
       "    </tr>\n",
       "    <tr>\n",
       "      <th>1</th>\n",
       "      <td>🫡</td>\n",
       "      <td>8</td>\n",
       "    </tr>\n",
       "    <tr>\n",
       "      <th>2</th>\n",
       "      <td>✅</td>\n",
       "      <td>5</td>\n",
       "    </tr>\n",
       "    <tr>\n",
       "      <th>3</th>\n",
       "      <td>👆</td>\n",
       "      <td>5</td>\n",
       "    </tr>\n",
       "    <tr>\n",
       "      <th>4</th>\n",
       "      <td>🙇‍♂️</td>\n",
       "      <td>4</td>\n",
       "    </tr>\n",
       "    <tr>\n",
       "      <th>5</th>\n",
       "      <td>😂</td>\n",
       "      <td>4</td>\n",
       "    </tr>\n",
       "    <tr>\n",
       "      <th>6</th>\n",
       "      <td>😊</td>\n",
       "      <td>3</td>\n",
       "    </tr>\n",
       "    <tr>\n",
       "      <th>7</th>\n",
       "      <td>✍️</td>\n",
       "      <td>3</td>\n",
       "    </tr>\n",
       "    <tr>\n",
       "      <th>8</th>\n",
       "      <td>👏</td>\n",
       "      <td>3</td>\n",
       "    </tr>\n",
       "    <tr>\n",
       "      <th>9</th>\n",
       "      <td>😨</td>\n",
       "      <td>3</td>\n",
       "    </tr>\n",
       "    <tr>\n",
       "      <th>10</th>\n",
       "      <td>🤦‍♂️</td>\n",
       "      <td>3</td>\n",
       "    </tr>\n",
       "    <tr>\n",
       "      <th>11</th>\n",
       "      <td>👇</td>\n",
       "      <td>3</td>\n",
       "    </tr>\n",
       "    <tr>\n",
       "      <th>12</th>\n",
       "      <td>💕</td>\n",
       "      <td>2</td>\n",
       "    </tr>\n",
       "    <tr>\n",
       "      <th>13</th>\n",
       "      <td>🥰</td>\n",
       "      <td>2</td>\n",
       "    </tr>\n",
       "    <tr>\n",
       "      <th>14</th>\n",
       "      <td>🙌</td>\n",
       "      <td>2</td>\n",
       "    </tr>\n",
       "    <tr>\n",
       "      <th>15</th>\n",
       "      <td>👍🏽</td>\n",
       "      <td>2</td>\n",
       "    </tr>\n",
       "    <tr>\n",
       "      <th>16</th>\n",
       "      <td>🤣</td>\n",
       "      <td>2</td>\n",
       "    </tr>\n",
       "    <tr>\n",
       "      <th>17</th>\n",
       "      <td>🎊</td>\n",
       "      <td>2</td>\n",
       "    </tr>\n",
       "    <tr>\n",
       "      <th>18</th>\n",
       "      <td>🖥️</td>\n",
       "      <td>1</td>\n",
       "    </tr>\n",
       "    <tr>\n",
       "      <th>19</th>\n",
       "      <td>🖱️</td>\n",
       "      <td>1</td>\n",
       "    </tr>\n",
       "    <tr>\n",
       "      <th>20</th>\n",
       "      <td>🖨️</td>\n",
       "      <td>1</td>\n",
       "    </tr>\n",
       "    <tr>\n",
       "      <th>21</th>\n",
       "      <td>™️</td>\n",
       "      <td>1</td>\n",
       "    </tr>\n",
       "    <tr>\n",
       "      <th>22</th>\n",
       "      <td>🖥</td>\n",
       "      <td>1</td>\n",
       "    </tr>\n",
       "    <tr>\n",
       "      <th>23</th>\n",
       "      <td>❤️</td>\n",
       "      <td>1</td>\n",
       "    </tr>\n",
       "    <tr>\n",
       "      <th>24</th>\n",
       "      <td>🚔</td>\n",
       "      <td>1</td>\n",
       "    </tr>\n",
       "    <tr>\n",
       "      <th>25</th>\n",
       "      <td>😀</td>\n",
       "      <td>1</td>\n",
       "    </tr>\n",
       "    <tr>\n",
       "      <th>26</th>\n",
       "      <td>🙏🏽</td>\n",
       "      <td>1</td>\n",
       "    </tr>\n",
       "    <tr>\n",
       "      <th>27</th>\n",
       "      <td>👍🏼</td>\n",
       "      <td>1</td>\n",
       "    </tr>\n",
       "    <tr>\n",
       "      <th>28</th>\n",
       "      <td>🤩</td>\n",
       "      <td>1</td>\n",
       "    </tr>\n",
       "    <tr>\n",
       "      <th>29</th>\n",
       "      <td>🥺</td>\n",
       "      <td>1</td>\n",
       "    </tr>\n",
       "    <tr>\n",
       "      <th>30</th>\n",
       "      <td>💯</td>\n",
       "      <td>1</td>\n",
       "    </tr>\n",
       "    <tr>\n",
       "      <th>31</th>\n",
       "      <td>🤖</td>\n",
       "      <td>1</td>\n",
       "    </tr>\n",
       "    <tr>\n",
       "      <th>32</th>\n",
       "      <td>🛡️</td>\n",
       "      <td>1</td>\n",
       "    </tr>\n",
       "    <tr>\n",
       "      <th>33</th>\n",
       "      <td>🤷🏽‍♂️</td>\n",
       "      <td>1</td>\n",
       "    </tr>\n",
       "    <tr>\n",
       "      <th>34</th>\n",
       "      <td>😄</td>\n",
       "      <td>1</td>\n",
       "    </tr>\n",
       "    <tr>\n",
       "      <th>35</th>\n",
       "      <td>🫣</td>\n",
       "      <td>1</td>\n",
       "    </tr>\n",
       "    <tr>\n",
       "      <th>36</th>\n",
       "      <td>😁</td>\n",
       "      <td>1</td>\n",
       "    </tr>\n",
       "    <tr>\n",
       "      <th>37</th>\n",
       "      <td>👌</td>\n",
       "      <td>1</td>\n",
       "    </tr>\n",
       "    <tr>\n",
       "      <th>38</th>\n",
       "      <td>🥵</td>\n",
       "      <td>1</td>\n",
       "    </tr>\n",
       "    <tr>\n",
       "      <th>39</th>\n",
       "      <td>👍</td>\n",
       "      <td>1</td>\n",
       "    </tr>\n",
       "  </tbody>\n",
       "</table>\n",
       "</div>"
      ],
      "text/plain": [
       "    emoji  count\n",
       "0       🙏     16\n",
       "1       🫡      8\n",
       "2       ✅      5\n",
       "3       👆      5\n",
       "4    🙇‍♂️      4\n",
       "5       😂      4\n",
       "6       😊      3\n",
       "7      ✍️      3\n",
       "8       👏      3\n",
       "9       😨      3\n",
       "10   🤦‍♂️      3\n",
       "11      👇      3\n",
       "12      💕      2\n",
       "13      🥰      2\n",
       "14      🙌      2\n",
       "15     👍🏽      2\n",
       "16      🤣      2\n",
       "17      🎊      2\n",
       "18     🖥️      1\n",
       "19     🖱️      1\n",
       "20     🖨️      1\n",
       "21     ™️      1\n",
       "22      🖥      1\n",
       "23     ❤️      1\n",
       "24      🚔      1\n",
       "25      😀      1\n",
       "26     🙏🏽      1\n",
       "27     👍🏼      1\n",
       "28      🤩      1\n",
       "29      🥺      1\n",
       "30      💯      1\n",
       "31      🤖      1\n",
       "32     🛡️      1\n",
       "33  🤷🏽‍♂️      1\n",
       "34      😄      1\n",
       "35      🫣      1\n",
       "36      😁      1\n",
       "37      👌      1\n",
       "38      🥵      1\n",
       "39      👍      1"
      ]
     },
     "execution_count": 123,
     "metadata": {},
     "output_type": "execute_result"
    }
   ],
   "source": [
    "emoji_df = pd.DataFrame(emoji_dict, columns=['emoji', 'count'])\n",
    "emoji_df"
   ]
  },
  {
   "cell_type": "code",
   "execution_count": 124,
   "metadata": {},
   "outputs": [
    {
     "data": {
      "application/vnd.plotly.v1+json": {
       "config": {
        "plotlyServerURL": "https://plot.ly"
       },
       "data": [
        {
         "domain": {
          "x": [
           0,
           1
          ],
          "y": [
           0,
           1
          ]
         },
         "hovertemplate": "emoji=%{label}<br>count=%{value}<extra></extra>",
         "labels": [
          "🙏",
          "🫡",
          "✅",
          "👆",
          "🙇‍♂️",
          "😂",
          "😊",
          "✍️",
          "👏",
          "😨",
          "🤦‍♂️",
          "👇",
          "💕",
          "🥰",
          "🙌",
          "👍🏽",
          "🤣",
          "🎊",
          "🖥️",
          "🖱️",
          "🖨️",
          "™️",
          "🖥",
          "❤️",
          "🚔",
          "😀",
          "🙏🏽",
          "👍🏼",
          "🤩",
          "🥺",
          "💯",
          "🤖",
          "🛡️",
          "🤷🏽‍♂️",
          "😄",
          "🫣",
          "😁",
          "👌",
          "🥵",
          "👍"
         ],
         "legendgroup": "",
         "name": "",
         "showlegend": true,
         "textinfo": "percent+label",
         "textposition": "inside",
         "type": "pie",
         "values": [
          16,
          8,
          5,
          5,
          4,
          4,
          3,
          3,
          3,
          3,
          3,
          3,
          2,
          2,
          2,
          2,
          2,
          2,
          1,
          1,
          1,
          1,
          1,
          1,
          1,
          1,
          1,
          1,
          1,
          1,
          1,
          1,
          1,
          1,
          1,
          1,
          1,
          1,
          1,
          1
         ]
        }
       ],
       "layout": {
        "legend": {
         "tracegroupgap": 0
        },
        "margin": {
         "t": 60
        },
        "template": {
         "data": {
          "bar": [
           {
            "error_x": {
             "color": "#2a3f5f"
            },
            "error_y": {
             "color": "#2a3f5f"
            },
            "marker": {
             "line": {
              "color": "#E5ECF6",
              "width": 0.5
             },
             "pattern": {
              "fillmode": "overlay",
              "size": 10,
              "solidity": 0.2
             }
            },
            "type": "bar"
           }
          ],
          "barpolar": [
           {
            "marker": {
             "line": {
              "color": "#E5ECF6",
              "width": 0.5
             },
             "pattern": {
              "fillmode": "overlay",
              "size": 10,
              "solidity": 0.2
             }
            },
            "type": "barpolar"
           }
          ],
          "carpet": [
           {
            "aaxis": {
             "endlinecolor": "#2a3f5f",
             "gridcolor": "white",
             "linecolor": "white",
             "minorgridcolor": "white",
             "startlinecolor": "#2a3f5f"
            },
            "baxis": {
             "endlinecolor": "#2a3f5f",
             "gridcolor": "white",
             "linecolor": "white",
             "minorgridcolor": "white",
             "startlinecolor": "#2a3f5f"
            },
            "type": "carpet"
           }
          ],
          "choropleth": [
           {
            "colorbar": {
             "outlinewidth": 0,
             "ticks": ""
            },
            "type": "choropleth"
           }
          ],
          "contour": [
           {
            "colorbar": {
             "outlinewidth": 0,
             "ticks": ""
            },
            "colorscale": [
             [
              0,
              "#0d0887"
             ],
             [
              0.1111111111111111,
              "#46039f"
             ],
             [
              0.2222222222222222,
              "#7201a8"
             ],
             [
              0.3333333333333333,
              "#9c179e"
             ],
             [
              0.4444444444444444,
              "#bd3786"
             ],
             [
              0.5555555555555556,
              "#d8576b"
             ],
             [
              0.6666666666666666,
              "#ed7953"
             ],
             [
              0.7777777777777778,
              "#fb9f3a"
             ],
             [
              0.8888888888888888,
              "#fdca26"
             ],
             [
              1,
              "#f0f921"
             ]
            ],
            "type": "contour"
           }
          ],
          "contourcarpet": [
           {
            "colorbar": {
             "outlinewidth": 0,
             "ticks": ""
            },
            "type": "contourcarpet"
           }
          ],
          "heatmap": [
           {
            "colorbar": {
             "outlinewidth": 0,
             "ticks": ""
            },
            "colorscale": [
             [
              0,
              "#0d0887"
             ],
             [
              0.1111111111111111,
              "#46039f"
             ],
             [
              0.2222222222222222,
              "#7201a8"
             ],
             [
              0.3333333333333333,
              "#9c179e"
             ],
             [
              0.4444444444444444,
              "#bd3786"
             ],
             [
              0.5555555555555556,
              "#d8576b"
             ],
             [
              0.6666666666666666,
              "#ed7953"
             ],
             [
              0.7777777777777778,
              "#fb9f3a"
             ],
             [
              0.8888888888888888,
              "#fdca26"
             ],
             [
              1,
              "#f0f921"
             ]
            ],
            "type": "heatmap"
           }
          ],
          "heatmapgl": [
           {
            "colorbar": {
             "outlinewidth": 0,
             "ticks": ""
            },
            "colorscale": [
             [
              0,
              "#0d0887"
             ],
             [
              0.1111111111111111,
              "#46039f"
             ],
             [
              0.2222222222222222,
              "#7201a8"
             ],
             [
              0.3333333333333333,
              "#9c179e"
             ],
             [
              0.4444444444444444,
              "#bd3786"
             ],
             [
              0.5555555555555556,
              "#d8576b"
             ],
             [
              0.6666666666666666,
              "#ed7953"
             ],
             [
              0.7777777777777778,
              "#fb9f3a"
             ],
             [
              0.8888888888888888,
              "#fdca26"
             ],
             [
              1,
              "#f0f921"
             ]
            ],
            "type": "heatmapgl"
           }
          ],
          "histogram": [
           {
            "marker": {
             "pattern": {
              "fillmode": "overlay",
              "size": 10,
              "solidity": 0.2
             }
            },
            "type": "histogram"
           }
          ],
          "histogram2d": [
           {
            "colorbar": {
             "outlinewidth": 0,
             "ticks": ""
            },
            "colorscale": [
             [
              0,
              "#0d0887"
             ],
             [
              0.1111111111111111,
              "#46039f"
             ],
             [
              0.2222222222222222,
              "#7201a8"
             ],
             [
              0.3333333333333333,
              "#9c179e"
             ],
             [
              0.4444444444444444,
              "#bd3786"
             ],
             [
              0.5555555555555556,
              "#d8576b"
             ],
             [
              0.6666666666666666,
              "#ed7953"
             ],
             [
              0.7777777777777778,
              "#fb9f3a"
             ],
             [
              0.8888888888888888,
              "#fdca26"
             ],
             [
              1,
              "#f0f921"
             ]
            ],
            "type": "histogram2d"
           }
          ],
          "histogram2dcontour": [
           {
            "colorbar": {
             "outlinewidth": 0,
             "ticks": ""
            },
            "colorscale": [
             [
              0,
              "#0d0887"
             ],
             [
              0.1111111111111111,
              "#46039f"
             ],
             [
              0.2222222222222222,
              "#7201a8"
             ],
             [
              0.3333333333333333,
              "#9c179e"
             ],
             [
              0.4444444444444444,
              "#bd3786"
             ],
             [
              0.5555555555555556,
              "#d8576b"
             ],
             [
              0.6666666666666666,
              "#ed7953"
             ],
             [
              0.7777777777777778,
              "#fb9f3a"
             ],
             [
              0.8888888888888888,
              "#fdca26"
             ],
             [
              1,
              "#f0f921"
             ]
            ],
            "type": "histogram2dcontour"
           }
          ],
          "mesh3d": [
           {
            "colorbar": {
             "outlinewidth": 0,
             "ticks": ""
            },
            "type": "mesh3d"
           }
          ],
          "parcoords": [
           {
            "line": {
             "colorbar": {
              "outlinewidth": 0,
              "ticks": ""
             }
            },
            "type": "parcoords"
           }
          ],
          "pie": [
           {
            "automargin": true,
            "type": "pie"
           }
          ],
          "scatter": [
           {
            "fillpattern": {
             "fillmode": "overlay",
             "size": 10,
             "solidity": 0.2
            },
            "type": "scatter"
           }
          ],
          "scatter3d": [
           {
            "line": {
             "colorbar": {
              "outlinewidth": 0,
              "ticks": ""
             }
            },
            "marker": {
             "colorbar": {
              "outlinewidth": 0,
              "ticks": ""
             }
            },
            "type": "scatter3d"
           }
          ],
          "scattercarpet": [
           {
            "marker": {
             "colorbar": {
              "outlinewidth": 0,
              "ticks": ""
             }
            },
            "type": "scattercarpet"
           }
          ],
          "scattergeo": [
           {
            "marker": {
             "colorbar": {
              "outlinewidth": 0,
              "ticks": ""
             }
            },
            "type": "scattergeo"
           }
          ],
          "scattergl": [
           {
            "marker": {
             "colorbar": {
              "outlinewidth": 0,
              "ticks": ""
             }
            },
            "type": "scattergl"
           }
          ],
          "scattermapbox": [
           {
            "marker": {
             "colorbar": {
              "outlinewidth": 0,
              "ticks": ""
             }
            },
            "type": "scattermapbox"
           }
          ],
          "scatterpolar": [
           {
            "marker": {
             "colorbar": {
              "outlinewidth": 0,
              "ticks": ""
             }
            },
            "type": "scatterpolar"
           }
          ],
          "scatterpolargl": [
           {
            "marker": {
             "colorbar": {
              "outlinewidth": 0,
              "ticks": ""
             }
            },
            "type": "scatterpolargl"
           }
          ],
          "scatterternary": [
           {
            "marker": {
             "colorbar": {
              "outlinewidth": 0,
              "ticks": ""
             }
            },
            "type": "scatterternary"
           }
          ],
          "surface": [
           {
            "colorbar": {
             "outlinewidth": 0,
             "ticks": ""
            },
            "colorscale": [
             [
              0,
              "#0d0887"
             ],
             [
              0.1111111111111111,
              "#46039f"
             ],
             [
              0.2222222222222222,
              "#7201a8"
             ],
             [
              0.3333333333333333,
              "#9c179e"
             ],
             [
              0.4444444444444444,
              "#bd3786"
             ],
             [
              0.5555555555555556,
              "#d8576b"
             ],
             [
              0.6666666666666666,
              "#ed7953"
             ],
             [
              0.7777777777777778,
              "#fb9f3a"
             ],
             [
              0.8888888888888888,
              "#fdca26"
             ],
             [
              1,
              "#f0f921"
             ]
            ],
            "type": "surface"
           }
          ],
          "table": [
           {
            "cells": {
             "fill": {
              "color": "#EBF0F8"
             },
             "line": {
              "color": "white"
             }
            },
            "header": {
             "fill": {
              "color": "#C8D4E3"
             },
             "line": {
              "color": "white"
             }
            },
            "type": "table"
           }
          ]
         },
         "layout": {
          "annotationdefaults": {
           "arrowcolor": "#2a3f5f",
           "arrowhead": 0,
           "arrowwidth": 1
          },
          "autotypenumbers": "strict",
          "coloraxis": {
           "colorbar": {
            "outlinewidth": 0,
            "ticks": ""
           }
          },
          "colorscale": {
           "diverging": [
            [
             0,
             "#8e0152"
            ],
            [
             0.1,
             "#c51b7d"
            ],
            [
             0.2,
             "#de77ae"
            ],
            [
             0.3,
             "#f1b6da"
            ],
            [
             0.4,
             "#fde0ef"
            ],
            [
             0.5,
             "#f7f7f7"
            ],
            [
             0.6,
             "#e6f5d0"
            ],
            [
             0.7,
             "#b8e186"
            ],
            [
             0.8,
             "#7fbc41"
            ],
            [
             0.9,
             "#4d9221"
            ],
            [
             1,
             "#276419"
            ]
           ],
           "sequential": [
            [
             0,
             "#0d0887"
            ],
            [
             0.1111111111111111,
             "#46039f"
            ],
            [
             0.2222222222222222,
             "#7201a8"
            ],
            [
             0.3333333333333333,
             "#9c179e"
            ],
            [
             0.4444444444444444,
             "#bd3786"
            ],
            [
             0.5555555555555556,
             "#d8576b"
            ],
            [
             0.6666666666666666,
             "#ed7953"
            ],
            [
             0.7777777777777778,
             "#fb9f3a"
            ],
            [
             0.8888888888888888,
             "#fdca26"
            ],
            [
             1,
             "#f0f921"
            ]
           ],
           "sequentialminus": [
            [
             0,
             "#0d0887"
            ],
            [
             0.1111111111111111,
             "#46039f"
            ],
            [
             0.2222222222222222,
             "#7201a8"
            ],
            [
             0.3333333333333333,
             "#9c179e"
            ],
            [
             0.4444444444444444,
             "#bd3786"
            ],
            [
             0.5555555555555556,
             "#d8576b"
            ],
            [
             0.6666666666666666,
             "#ed7953"
            ],
            [
             0.7777777777777778,
             "#fb9f3a"
            ],
            [
             0.8888888888888888,
             "#fdca26"
            ],
            [
             1,
             "#f0f921"
            ]
           ]
          },
          "colorway": [
           "#636efa",
           "#EF553B",
           "#00cc96",
           "#ab63fa",
           "#FFA15A",
           "#19d3f3",
           "#FF6692",
           "#B6E880",
           "#FF97FF",
           "#FECB52"
          ],
          "font": {
           "color": "#2a3f5f"
          },
          "geo": {
           "bgcolor": "white",
           "lakecolor": "white",
           "landcolor": "#E5ECF6",
           "showlakes": true,
           "showland": true,
           "subunitcolor": "white"
          },
          "hoverlabel": {
           "align": "left"
          },
          "hovermode": "closest",
          "mapbox": {
           "style": "light"
          },
          "paper_bgcolor": "white",
          "plot_bgcolor": "#E5ECF6",
          "polar": {
           "angularaxis": {
            "gridcolor": "white",
            "linecolor": "white",
            "ticks": ""
           },
           "bgcolor": "#E5ECF6",
           "radialaxis": {
            "gridcolor": "white",
            "linecolor": "white",
            "ticks": ""
           }
          },
          "scene": {
           "xaxis": {
            "backgroundcolor": "#E5ECF6",
            "gridcolor": "white",
            "gridwidth": 2,
            "linecolor": "white",
            "showbackground": true,
            "ticks": "",
            "zerolinecolor": "white"
           },
           "yaxis": {
            "backgroundcolor": "#E5ECF6",
            "gridcolor": "white",
            "gridwidth": 2,
            "linecolor": "white",
            "showbackground": true,
            "ticks": "",
            "zerolinecolor": "white"
           },
           "zaxis": {
            "backgroundcolor": "#E5ECF6",
            "gridcolor": "white",
            "gridwidth": 2,
            "linecolor": "white",
            "showbackground": true,
            "ticks": "",
            "zerolinecolor": "white"
           }
          },
          "shapedefaults": {
           "line": {
            "color": "#2a3f5f"
           }
          },
          "ternary": {
           "aaxis": {
            "gridcolor": "white",
            "linecolor": "white",
            "ticks": ""
           },
           "baxis": {
            "gridcolor": "white",
            "linecolor": "white",
            "ticks": ""
           },
           "bgcolor": "#E5ECF6",
           "caxis": {
            "gridcolor": "white",
            "linecolor": "white",
            "ticks": ""
           }
          },
          "title": {
           "x": 0.05
          },
          "xaxis": {
           "automargin": true,
           "gridcolor": "white",
           "linecolor": "white",
           "ticks": "",
           "title": {
            "standoff": 15
           },
           "zerolinecolor": "white",
           "zerolinewidth": 2
          },
          "yaxis": {
           "automargin": true,
           "gridcolor": "white",
           "linecolor": "white",
           "ticks": "",
           "title": {
            "standoff": 15
           },
           "zerolinecolor": "white",
           "zerolinewidth": 2
          }
         }
        }
       }
      },
      "text/html": [
       "<div>                            <div id=\"1b5d5c60-624f-4666-8141-5b406ba5ee34\" class=\"plotly-graph-div\" style=\"height:525px; width:100%;\"></div>            <script type=\"text/javascript\">                require([\"plotly\"], function(Plotly) {                    window.PLOTLYENV=window.PLOTLYENV || {};                                    if (document.getElementById(\"1b5d5c60-624f-4666-8141-5b406ba5ee34\")) {                    Plotly.newPlot(                        \"1b5d5c60-624f-4666-8141-5b406ba5ee34\",                        [{\"domain\":{\"x\":[0.0,1.0],\"y\":[0.0,1.0]},\"hovertemplate\":\"emoji=%{label}<br>count=%{value}<extra></extra>\",\"labels\":[\"\\ud83d\\ude4f\",\"\\ud83e\\udee1\",\"\\u2705\",\"\\ud83d\\udc46\",\"\\ud83d\\ude47\\u200d\\u2642\\ufe0f\",\"\\ud83d\\ude02\",\"\\ud83d\\ude0a\",\"\\u270d\\ufe0f\",\"\\ud83d\\udc4f\",\"\\ud83d\\ude28\",\"\\ud83e\\udd26\\u200d\\u2642\\ufe0f\",\"\\ud83d\\udc47\",\"\\ud83d\\udc95\",\"\\ud83e\\udd70\",\"\\ud83d\\ude4c\",\"\\ud83d\\udc4d\\ud83c\\udffd\",\"\\ud83e\\udd23\",\"\\ud83c\\udf8a\",\"\\ud83d\\udda5\\ufe0f\",\"\\ud83d\\uddb1\\ufe0f\",\"\\ud83d\\udda8\\ufe0f\",\"\\u2122\\ufe0f\",\"\\ud83d\\udda5\",\"\\u2764\\ufe0f\",\"\\ud83d\\ude94\",\"\\ud83d\\ude00\",\"\\ud83d\\ude4f\\ud83c\\udffd\",\"\\ud83d\\udc4d\\ud83c\\udffc\",\"\\ud83e\\udd29\",\"\\ud83e\\udd7a\",\"\\ud83d\\udcaf\",\"\\ud83e\\udd16\",\"\\ud83d\\udee1\\ufe0f\",\"\\ud83e\\udd37\\ud83c\\udffd\\u200d\\u2642\\ufe0f\",\"\\ud83d\\ude04\",\"\\ud83e\\udee3\",\"\\ud83d\\ude01\",\"\\ud83d\\udc4c\",\"\\ud83e\\udd75\",\"\\ud83d\\udc4d\"],\"legendgroup\":\"\",\"name\":\"\",\"showlegend\":true,\"values\":[16,8,5,5,4,4,3,3,3,3,3,3,2,2,2,2,2,2,1,1,1,1,1,1,1,1,1,1,1,1,1,1,1,1,1,1,1,1,1,1],\"type\":\"pie\",\"textinfo\":\"percent+label\",\"textposition\":\"inside\"}],                        {\"template\":{\"data\":{\"histogram2dcontour\":[{\"type\":\"histogram2dcontour\",\"colorbar\":{\"outlinewidth\":0,\"ticks\":\"\"},\"colorscale\":[[0.0,\"#0d0887\"],[0.1111111111111111,\"#46039f\"],[0.2222222222222222,\"#7201a8\"],[0.3333333333333333,\"#9c179e\"],[0.4444444444444444,\"#bd3786\"],[0.5555555555555556,\"#d8576b\"],[0.6666666666666666,\"#ed7953\"],[0.7777777777777778,\"#fb9f3a\"],[0.8888888888888888,\"#fdca26\"],[1.0,\"#f0f921\"]]}],\"choropleth\":[{\"type\":\"choropleth\",\"colorbar\":{\"outlinewidth\":0,\"ticks\":\"\"}}],\"histogram2d\":[{\"type\":\"histogram2d\",\"colorbar\":{\"outlinewidth\":0,\"ticks\":\"\"},\"colorscale\":[[0.0,\"#0d0887\"],[0.1111111111111111,\"#46039f\"],[0.2222222222222222,\"#7201a8\"],[0.3333333333333333,\"#9c179e\"],[0.4444444444444444,\"#bd3786\"],[0.5555555555555556,\"#d8576b\"],[0.6666666666666666,\"#ed7953\"],[0.7777777777777778,\"#fb9f3a\"],[0.8888888888888888,\"#fdca26\"],[1.0,\"#f0f921\"]]}],\"heatmap\":[{\"type\":\"heatmap\",\"colorbar\":{\"outlinewidth\":0,\"ticks\":\"\"},\"colorscale\":[[0.0,\"#0d0887\"],[0.1111111111111111,\"#46039f\"],[0.2222222222222222,\"#7201a8\"],[0.3333333333333333,\"#9c179e\"],[0.4444444444444444,\"#bd3786\"],[0.5555555555555556,\"#d8576b\"],[0.6666666666666666,\"#ed7953\"],[0.7777777777777778,\"#fb9f3a\"],[0.8888888888888888,\"#fdca26\"],[1.0,\"#f0f921\"]]}],\"heatmapgl\":[{\"type\":\"heatmapgl\",\"colorbar\":{\"outlinewidth\":0,\"ticks\":\"\"},\"colorscale\":[[0.0,\"#0d0887\"],[0.1111111111111111,\"#46039f\"],[0.2222222222222222,\"#7201a8\"],[0.3333333333333333,\"#9c179e\"],[0.4444444444444444,\"#bd3786\"],[0.5555555555555556,\"#d8576b\"],[0.6666666666666666,\"#ed7953\"],[0.7777777777777778,\"#fb9f3a\"],[0.8888888888888888,\"#fdca26\"],[1.0,\"#f0f921\"]]}],\"contourcarpet\":[{\"type\":\"contourcarpet\",\"colorbar\":{\"outlinewidth\":0,\"ticks\":\"\"}}],\"contour\":[{\"type\":\"contour\",\"colorbar\":{\"outlinewidth\":0,\"ticks\":\"\"},\"colorscale\":[[0.0,\"#0d0887\"],[0.1111111111111111,\"#46039f\"],[0.2222222222222222,\"#7201a8\"],[0.3333333333333333,\"#9c179e\"],[0.4444444444444444,\"#bd3786\"],[0.5555555555555556,\"#d8576b\"],[0.6666666666666666,\"#ed7953\"],[0.7777777777777778,\"#fb9f3a\"],[0.8888888888888888,\"#fdca26\"],[1.0,\"#f0f921\"]]}],\"surface\":[{\"type\":\"surface\",\"colorbar\":{\"outlinewidth\":0,\"ticks\":\"\"},\"colorscale\":[[0.0,\"#0d0887\"],[0.1111111111111111,\"#46039f\"],[0.2222222222222222,\"#7201a8\"],[0.3333333333333333,\"#9c179e\"],[0.4444444444444444,\"#bd3786\"],[0.5555555555555556,\"#d8576b\"],[0.6666666666666666,\"#ed7953\"],[0.7777777777777778,\"#fb9f3a\"],[0.8888888888888888,\"#fdca26\"],[1.0,\"#f0f921\"]]}],\"mesh3d\":[{\"type\":\"mesh3d\",\"colorbar\":{\"outlinewidth\":0,\"ticks\":\"\"}}],\"scatter\":[{\"fillpattern\":{\"fillmode\":\"overlay\",\"size\":10,\"solidity\":0.2},\"type\":\"scatter\"}],\"parcoords\":[{\"type\":\"parcoords\",\"line\":{\"colorbar\":{\"outlinewidth\":0,\"ticks\":\"\"}}}],\"scatterpolargl\":[{\"type\":\"scatterpolargl\",\"marker\":{\"colorbar\":{\"outlinewidth\":0,\"ticks\":\"\"}}}],\"bar\":[{\"error_x\":{\"color\":\"#2a3f5f\"},\"error_y\":{\"color\":\"#2a3f5f\"},\"marker\":{\"line\":{\"color\":\"#E5ECF6\",\"width\":0.5},\"pattern\":{\"fillmode\":\"overlay\",\"size\":10,\"solidity\":0.2}},\"type\":\"bar\"}],\"scattergeo\":[{\"type\":\"scattergeo\",\"marker\":{\"colorbar\":{\"outlinewidth\":0,\"ticks\":\"\"}}}],\"scatterpolar\":[{\"type\":\"scatterpolar\",\"marker\":{\"colorbar\":{\"outlinewidth\":0,\"ticks\":\"\"}}}],\"histogram\":[{\"marker\":{\"pattern\":{\"fillmode\":\"overlay\",\"size\":10,\"solidity\":0.2}},\"type\":\"histogram\"}],\"scattergl\":[{\"type\":\"scattergl\",\"marker\":{\"colorbar\":{\"outlinewidth\":0,\"ticks\":\"\"}}}],\"scatter3d\":[{\"type\":\"scatter3d\",\"line\":{\"colorbar\":{\"outlinewidth\":0,\"ticks\":\"\"}},\"marker\":{\"colorbar\":{\"outlinewidth\":0,\"ticks\":\"\"}}}],\"scattermapbox\":[{\"type\":\"scattermapbox\",\"marker\":{\"colorbar\":{\"outlinewidth\":0,\"ticks\":\"\"}}}],\"scatterternary\":[{\"type\":\"scatterternary\",\"marker\":{\"colorbar\":{\"outlinewidth\":0,\"ticks\":\"\"}}}],\"scattercarpet\":[{\"type\":\"scattercarpet\",\"marker\":{\"colorbar\":{\"outlinewidth\":0,\"ticks\":\"\"}}}],\"carpet\":[{\"aaxis\":{\"endlinecolor\":\"#2a3f5f\",\"gridcolor\":\"white\",\"linecolor\":\"white\",\"minorgridcolor\":\"white\",\"startlinecolor\":\"#2a3f5f\"},\"baxis\":{\"endlinecolor\":\"#2a3f5f\",\"gridcolor\":\"white\",\"linecolor\":\"white\",\"minorgridcolor\":\"white\",\"startlinecolor\":\"#2a3f5f\"},\"type\":\"carpet\"}],\"table\":[{\"cells\":{\"fill\":{\"color\":\"#EBF0F8\"},\"line\":{\"color\":\"white\"}},\"header\":{\"fill\":{\"color\":\"#C8D4E3\"},\"line\":{\"color\":\"white\"}},\"type\":\"table\"}],\"barpolar\":[{\"marker\":{\"line\":{\"color\":\"#E5ECF6\",\"width\":0.5},\"pattern\":{\"fillmode\":\"overlay\",\"size\":10,\"solidity\":0.2}},\"type\":\"barpolar\"}],\"pie\":[{\"automargin\":true,\"type\":\"pie\"}]},\"layout\":{\"autotypenumbers\":\"strict\",\"colorway\":[\"#636efa\",\"#EF553B\",\"#00cc96\",\"#ab63fa\",\"#FFA15A\",\"#19d3f3\",\"#FF6692\",\"#B6E880\",\"#FF97FF\",\"#FECB52\"],\"font\":{\"color\":\"#2a3f5f\"},\"hovermode\":\"closest\",\"hoverlabel\":{\"align\":\"left\"},\"paper_bgcolor\":\"white\",\"plot_bgcolor\":\"#E5ECF6\",\"polar\":{\"bgcolor\":\"#E5ECF6\",\"angularaxis\":{\"gridcolor\":\"white\",\"linecolor\":\"white\",\"ticks\":\"\"},\"radialaxis\":{\"gridcolor\":\"white\",\"linecolor\":\"white\",\"ticks\":\"\"}},\"ternary\":{\"bgcolor\":\"#E5ECF6\",\"aaxis\":{\"gridcolor\":\"white\",\"linecolor\":\"white\",\"ticks\":\"\"},\"baxis\":{\"gridcolor\":\"white\",\"linecolor\":\"white\",\"ticks\":\"\"},\"caxis\":{\"gridcolor\":\"white\",\"linecolor\":\"white\",\"ticks\":\"\"}},\"coloraxis\":{\"colorbar\":{\"outlinewidth\":0,\"ticks\":\"\"}},\"colorscale\":{\"sequential\":[[0.0,\"#0d0887\"],[0.1111111111111111,\"#46039f\"],[0.2222222222222222,\"#7201a8\"],[0.3333333333333333,\"#9c179e\"],[0.4444444444444444,\"#bd3786\"],[0.5555555555555556,\"#d8576b\"],[0.6666666666666666,\"#ed7953\"],[0.7777777777777778,\"#fb9f3a\"],[0.8888888888888888,\"#fdca26\"],[1.0,\"#f0f921\"]],\"sequentialminus\":[[0.0,\"#0d0887\"],[0.1111111111111111,\"#46039f\"],[0.2222222222222222,\"#7201a8\"],[0.3333333333333333,\"#9c179e\"],[0.4444444444444444,\"#bd3786\"],[0.5555555555555556,\"#d8576b\"],[0.6666666666666666,\"#ed7953\"],[0.7777777777777778,\"#fb9f3a\"],[0.8888888888888888,\"#fdca26\"],[1.0,\"#f0f921\"]],\"diverging\":[[0,\"#8e0152\"],[0.1,\"#c51b7d\"],[0.2,\"#de77ae\"],[0.3,\"#f1b6da\"],[0.4,\"#fde0ef\"],[0.5,\"#f7f7f7\"],[0.6,\"#e6f5d0\"],[0.7,\"#b8e186\"],[0.8,\"#7fbc41\"],[0.9,\"#4d9221\"],[1,\"#276419\"]]},\"xaxis\":{\"gridcolor\":\"white\",\"linecolor\":\"white\",\"ticks\":\"\",\"title\":{\"standoff\":15},\"zerolinecolor\":\"white\",\"automargin\":true,\"zerolinewidth\":2},\"yaxis\":{\"gridcolor\":\"white\",\"linecolor\":\"white\",\"ticks\":\"\",\"title\":{\"standoff\":15},\"zerolinecolor\":\"white\",\"automargin\":true,\"zerolinewidth\":2},\"scene\":{\"xaxis\":{\"backgroundcolor\":\"#E5ECF6\",\"gridcolor\":\"white\",\"linecolor\":\"white\",\"showbackground\":true,\"ticks\":\"\",\"zerolinecolor\":\"white\",\"gridwidth\":2},\"yaxis\":{\"backgroundcolor\":\"#E5ECF6\",\"gridcolor\":\"white\",\"linecolor\":\"white\",\"showbackground\":true,\"ticks\":\"\",\"zerolinecolor\":\"white\",\"gridwidth\":2},\"zaxis\":{\"backgroundcolor\":\"#E5ECF6\",\"gridcolor\":\"white\",\"linecolor\":\"white\",\"showbackground\":true,\"ticks\":\"\",\"zerolinecolor\":\"white\",\"gridwidth\":2}},\"shapedefaults\":{\"line\":{\"color\":\"#2a3f5f\"}},\"annotationdefaults\":{\"arrowcolor\":\"#2a3f5f\",\"arrowhead\":0,\"arrowwidth\":1},\"geo\":{\"bgcolor\":\"white\",\"landcolor\":\"#E5ECF6\",\"subunitcolor\":\"white\",\"showland\":true,\"showlakes\":true,\"lakecolor\":\"white\"},\"title\":{\"x\":0.05},\"mapbox\":{\"style\":\"light\"}}},\"legend\":{\"tracegroupgap\":0},\"margin\":{\"t\":60}},                        {\"responsive\": true}                    ).then(function(){\n",
       "                            \n",
       "var gd = document.getElementById('1b5d5c60-624f-4666-8141-5b406ba5ee34');\n",
       "var x = new MutationObserver(function (mutations, observer) {{\n",
       "        var display = window.getComputedStyle(gd).display;\n",
       "        if (!display || display === 'none') {{\n",
       "            console.log([gd, 'removed!']);\n",
       "            Plotly.purge(gd);\n",
       "            observer.disconnect();\n",
       "        }}\n",
       "}});\n",
       "\n",
       "// Listen for the removal of the full notebook cells\n",
       "var notebookContainer = gd.closest('#notebook-container');\n",
       "if (notebookContainer) {{\n",
       "    x.observe(notebookContainer, {childList: true});\n",
       "}}\n",
       "\n",
       "// Listen for the clearing of the current output cell\n",
       "var outputEl = gd.closest('.output');\n",
       "if (outputEl) {{\n",
       "    x.observe(outputEl, {childList: true});\n",
       "}}\n",
       "\n",
       "                        })                };                });            </script>        </div>"
      ]
     },
     "metadata": {},
     "output_type": "display_data"
    }
   ],
   "source": [
    "import plotly.express as px\n",
    "fig = px.pie(emoji_df, values='count', names='emoji')\n",
    "fig.update_traces(textposition='inside', textinfo='percent+label')\n",
    "fig.show()"
   ]
  },
  {
   "cell_type": "code",
   "execution_count": 125,
   "metadata": {},
   "outputs": [
    {
     "data": {
      "text/plain": [
       "Text(0, 0.5, 'Time')"
      ]
     },
     "execution_count": 125,
     "metadata": {},
     "output_type": "execute_result"
    },
    {
     "data": {
      "image/png": "[encoded data removed]",
      "text/plain": [
       "<Figure size 640x480 with 1 Axes>"
      ]
     },
     "metadata": {},
     "output_type": "display_data"
    }
   ],
   "source": [
    "messages_df['Time'].value_counts().head(10).plot.barh() # Top 10 Times of the day at which the most number of messages were sent\n",
    "plt.xlabel('Number of messages')\n",
    "plt.ylabel('Time')"
   ]
  },
  {
   "cell_type": "code",
   "execution_count": 126,
   "metadata": {},
   "outputs": [
    {
     "data": {
      "text/html": [
       "<div>\n",
       "<style scoped>\n",
       "    .dataframe tbody tr th:only-of-type {\n",
       "        vertical-align: middle;\n",
       "    }\n",
       "\n",
       "    .dataframe tbody tr th {\n",
       "        vertical-align: top;\n",
       "    }\n",
       "\n",
       "    .dataframe thead th {\n",
       "        text-align: right;\n",
       "    }\n",
       "</style>\n",
       "<table border=\"1\" class=\"dataframe\">\n",
       "  <thead>\n",
       "    <tr style=\"text-align: right;\">\n",
       "      <th></th>\n",
       "      <th>Date</th>\n",
       "      <th>Time</th>\n",
       "      <th>Author</th>\n",
       "      <th>Message</th>\n",
       "      <th>emoji</th>\n",
       "      <th>urlcount</th>\n",
       "      <th>day</th>\n",
       "      <th>month</th>\n",
       "      <th>year</th>\n",
       "    </tr>\n",
       "  </thead>\n",
       "  <tbody>\n",
       "    <tr>\n",
       "      <th>0</th>\n",
       "      <td>[14/12/2023</td>\n",
       "      <td>10:05</td>\n",
       "      <td>Ijesha Digital Hub Training Cohort 1</td>\n",
       "      <td>‎~ Farmwella Nigeria Limited added you</td>\n",
       "      <td>[]</td>\n",
       "      <td>0</td>\n",
       "      <td>[14</td>\n",
       "      <td>12</td>\n",
       "      <td>2023</td>\n",
       "    </tr>\n",
       "    <tr>\n",
       "      <th>1</th>\n",
       "      <td>[14/12/2023</td>\n",
       "      <td>10:05</td>\n",
       "      <td>~ Farmwella Nigeria Limited</td>\n",
       "      <td>‎~ Farmwella Nigeria Limited changed this gro...</td>\n",
       "      <td>[]</td>\n",
       "      <td>0</td>\n",
       "      <td>[14</td>\n",
       "      <td>12</td>\n",
       "      <td>2023</td>\n",
       "    </tr>\n",
       "    <tr>\n",
       "      <th>2</th>\n",
       "      <td>[14/12/2023</td>\n",
       "      <td>10:05</td>\n",
       "      <td>~ Tsmart Solutions.</td>\n",
       "      <td>‎~ Farmwella Nigeria Limited added ~ Tsmart S...</td>\n",
       "      <td>[]</td>\n",
       "      <td>0</td>\n",
       "      <td>[14</td>\n",
       "      <td>12</td>\n",
       "      <td>2023</td>\n",
       "    </tr>\n",
       "    <tr>\n",
       "      <th>3</th>\n",
       "      <td>[14/12/2023</td>\n",
       "      <td>10:05</td>\n",
       "      <td>~ Alex Omoniyi (FCA)</td>\n",
       "      <td>‎~ Farmwella Nigeria Limited added ~ Alex Omo...</td>\n",
       "      <td>[]</td>\n",
       "      <td>0</td>\n",
       "      <td>[14</td>\n",
       "      <td>12</td>\n",
       "      <td>2023</td>\n",
       "    </tr>\n",
       "    <tr>\n",
       "      <th>4</th>\n",
       "      <td>[14/12/2023</td>\n",
       "      <td>10:05</td>\n",
       "      <td>~ O. D. AJAYI (CCSP, ACICRM, MICA)</td>\n",
       "      <td>‎~ Farmwella Nigeria Limited added ~ O. D. AJ...</td>\n",
       "      <td>[]</td>\n",
       "      <td>0</td>\n",
       "      <td>[14</td>\n",
       "      <td>12</td>\n",
       "      <td>2023</td>\n",
       "    </tr>\n",
       "    <tr>\n",
       "      <th>...</th>\n",
       "      <td>...</td>\n",
       "      <td>...</td>\n",
       "      <td>...</td>\n",
       "      <td>...</td>\n",
       "      <td>...</td>\n",
       "      <td>...</td>\n",
       "      <td>...</td>\n",
       "      <td>...</td>\n",
       "      <td>...</td>\n",
       "    </tr>\n",
       "    <tr>\n",
       "      <th>1089</th>\n",
       "      <td>[09/02/2024</td>\n",
       "      <td>10:31</td>\n",
       "      <td>~ Olayinka</td>\n",
       "      <td>Welcome to Swifyfly Courier/Delivery Service ...</td>\n",
       "      <td>[]</td>\n",
       "      <td>1</td>\n",
       "      <td>[09</td>\n",
       "      <td>02</td>\n",
       "      <td>2024</td>\n",
       "    </tr>\n",
       "    <tr>\n",
       "      <th>1090</th>\n",
       "      <td>[09/02/2024</td>\n",
       "      <td>12:09</td>\n",
       "      <td>~ Farmwella Nigeria Limited</td>\n",
       "      <td>Hello everyone,  It's important to have your ...</td>\n",
       "      <td>[]</td>\n",
       "      <td>0</td>\n",
       "      <td>[09</td>\n",
       "      <td>02</td>\n",
       "      <td>2024</td>\n",
       "    </tr>\n",
       "    <tr>\n",
       "      <th>1091</th>\n",
       "      <td>[11/02/2024</td>\n",
       "      <td>18:51</td>\n",
       "      <td>~ KAY</td>\n",
       "      <td>‎This message was deleted.</td>\n",
       "      <td>[]</td>\n",
       "      <td>0</td>\n",
       "      <td>[11</td>\n",
       "      <td>02</td>\n",
       "      <td>2024</td>\n",
       "    </tr>\n",
       "    <tr>\n",
       "      <th>1093</th>\n",
       "      <td>[11/02/2024</td>\n",
       "      <td>23:15</td>\n",
       "      <td>~ Olayinka</td>\n",
       "      <td>Done</td>\n",
       "      <td>[]</td>\n",
       "      <td>0</td>\n",
       "      <td>[11</td>\n",
       "      <td>02</td>\n",
       "      <td>2024</td>\n",
       "    </tr>\n",
       "    <tr>\n",
       "      <th>1094</th>\n",
       "      <td>[12/02/2024</td>\n",
       "      <td>00:09</td>\n",
       "      <td>~ Oluwakemi</td>\n",
       "      <td>Done</td>\n",
       "      <td>[]</td>\n",
       "      <td>0</td>\n",
       "      <td>[12</td>\n",
       "      <td>02</td>\n",
       "      <td>2024</td>\n",
       "    </tr>\n",
       "  </tbody>\n",
       "</table>\n",
       "<p>1060 rows × 9 columns</p>\n",
       "</div>"
      ],
      "text/plain": [
       "             Date    Time                                Author  \\\n",
       "0     [14/12/2023   10:05  Ijesha Digital Hub Training Cohort 1   \n",
       "1     [14/12/2023   10:05           ~ Farmwella Nigeria Limited   \n",
       "2     [14/12/2023   10:05                   ~ Tsmart Solutions.   \n",
       "3     [14/12/2023   10:05                  ~ Alex Omoniyi (FCA)   \n",
       "4     [14/12/2023   10:05    ~ O. D. AJAYI (CCSP, ACICRM, MICA)   \n",
       "...           ...     ...                                   ...   \n",
       "1089  [09/02/2024   10:31                            ~ Olayinka   \n",
       "1090  [09/02/2024   12:09           ~ Farmwella Nigeria Limited   \n",
       "1091  [11/02/2024   18:51                                 ~ KAY   \n",
       "1093  [11/02/2024   23:15                            ~ Olayinka   \n",
       "1094  [12/02/2024   00:09                           ~ Oluwakemi   \n",
       "\n",
       "                                                Message emoji  urlcount  day  \\\n",
       "0                ‎~ Farmwella Nigeria Limited added you    []         0  [14   \n",
       "1      ‎~ Farmwella Nigeria Limited changed this gro...    []         0  [14   \n",
       "2      ‎~ Farmwella Nigeria Limited added ~ Tsmart S...    []         0  [14   \n",
       "3      ‎~ Farmwella Nigeria Limited added ~ Alex Omo...    []         0  [14   \n",
       "4      ‎~ Farmwella Nigeria Limited added ~ O. D. AJ...    []         0  [14   \n",
       "...                                                 ...   ...       ...  ...   \n",
       "1089   Welcome to Swifyfly Courier/Delivery Service ...    []         1  [09   \n",
       "1090   Hello everyone,  It's important to have your ...    []         0  [09   \n",
       "1091                         ‎This message was deleted.    []         0  [11   \n",
       "1093                                               Done    []         0  [11   \n",
       "1094                                               Done    []         0  [12   \n",
       "\n",
       "     month  year  \n",
       "0       12  2023  \n",
       "1       12  2023  \n",
       "2       12  2023  \n",
       "3       12  2023  \n",
       "4       12  2023  \n",
       "...    ...   ...  \n",
       "1089    02  2024  \n",
       "1090    02  2024  \n",
       "1091    02  2024  \n",
       "1093    02  2024  \n",
       "1094    02  2024  \n",
       "\n",
       "[1060 rows x 9 columns]"
      ]
     },
     "execution_count": 126,
     "metadata": {},
     "output_type": "execute_result"
    }
   ],
   "source": [
    "#Converting a timestamp colunm into string so we can extract 'Year', 'Month', and 'Day'\n",
    "\n",
    "df1=df['Date'].astype(str)\n",
    "\n",
    "#extract Year, Month, Date\n",
    "\n",
    "df['day'] = df1.apply(lambda x: x.split(\"/\")[0])\n",
    "df['month'] = df1.apply(lambda x: x.split(\"/\")[1])\n",
    "df['year'] = df1.apply(lambda x: x.split(\"/\")[2])\n",
    "\n",
    "\n",
    "\n",
    "\n",
    "#print our new data\n",
    "df"
   ]
  },
  {
   "cell_type": "code",
   "execution_count": 127,
   "metadata": {},
   "outputs": [
    {
     "data": {
      "text/html": [
       "<div>\n",
       "<style scoped>\n",
       "    .dataframe tbody tr th:only-of-type {\n",
       "        vertical-align: middle;\n",
       "    }\n",
       "\n",
       "    .dataframe tbody tr th {\n",
       "        vertical-align: top;\n",
       "    }\n",
       "\n",
       "    .dataframe thead th {\n",
       "        text-align: right;\n",
       "    }\n",
       "</style>\n",
       "<table border=\"1\" class=\"dataframe\">\n",
       "  <thead>\n",
       "    <tr style=\"text-align: right;\">\n",
       "      <th></th>\n",
       "      <th>Date</th>\n",
       "      <th>Time</th>\n",
       "      <th>Author</th>\n",
       "      <th>Message</th>\n",
       "      <th>emoji</th>\n",
       "      <th>urlcount</th>\n",
       "      <th>day</th>\n",
       "      <th>month</th>\n",
       "      <th>year</th>\n",
       "    </tr>\n",
       "  </thead>\n",
       "  <tbody>\n",
       "    <tr>\n",
       "      <th>0</th>\n",
       "      <td>[14/12/2023</td>\n",
       "      <td>10:05</td>\n",
       "      <td>Ijesha Digital Hub Training Cohort 1</td>\n",
       "      <td>‎~ Farmwella Nigeria Limited added you</td>\n",
       "      <td>[]</td>\n",
       "      <td>0</td>\n",
       "      <td>14</td>\n",
       "      <td>12</td>\n",
       "      <td>2023</td>\n",
       "    </tr>\n",
       "    <tr>\n",
       "      <th>1</th>\n",
       "      <td>[14/12/2023</td>\n",
       "      <td>10:05</td>\n",
       "      <td>~ Farmwella Nigeria Limited</td>\n",
       "      <td>‎~ Farmwella Nigeria Limited changed this gro...</td>\n",
       "      <td>[]</td>\n",
       "      <td>0</td>\n",
       "      <td>14</td>\n",
       "      <td>12</td>\n",
       "      <td>2023</td>\n",
       "    </tr>\n",
       "    <tr>\n",
       "      <th>2</th>\n",
       "      <td>[14/12/2023</td>\n",
       "      <td>10:05</td>\n",
       "      <td>~ Tsmart Solutions.</td>\n",
       "      <td>‎~ Farmwella Nigeria Limited added ~ Tsmart S...</td>\n",
       "      <td>[]</td>\n",
       "      <td>0</td>\n",
       "      <td>14</td>\n",
       "      <td>12</td>\n",
       "      <td>2023</td>\n",
       "    </tr>\n",
       "    <tr>\n",
       "      <th>3</th>\n",
       "      <td>[14/12/2023</td>\n",
       "      <td>10:05</td>\n",
       "      <td>~ Alex Omoniyi (FCA)</td>\n",
       "      <td>‎~ Farmwella Nigeria Limited added ~ Alex Omo...</td>\n",
       "      <td>[]</td>\n",
       "      <td>0</td>\n",
       "      <td>14</td>\n",
       "      <td>12</td>\n",
       "      <td>2023</td>\n",
       "    </tr>\n",
       "    <tr>\n",
       "      <th>4</th>\n",
       "      <td>[14/12/2023</td>\n",
       "      <td>10:05</td>\n",
       "      <td>~ O. D. AJAYI (CCSP, ACICRM, MICA)</td>\n",
       "      <td>‎~ Farmwella Nigeria Limited added ~ O. D. AJ...</td>\n",
       "      <td>[]</td>\n",
       "      <td>0</td>\n",
       "      <td>14</td>\n",
       "      <td>12</td>\n",
       "      <td>2023</td>\n",
       "    </tr>\n",
       "    <tr>\n",
       "      <th>...</th>\n",
       "      <td>...</td>\n",
       "      <td>...</td>\n",
       "      <td>...</td>\n",
       "      <td>...</td>\n",
       "      <td>...</td>\n",
       "      <td>...</td>\n",
       "      <td>...</td>\n",
       "      <td>...</td>\n",
       "      <td>...</td>\n",
       "    </tr>\n",
       "    <tr>\n",
       "      <th>1089</th>\n",
       "      <td>[09/02/2024</td>\n",
       "      <td>10:31</td>\n",
       "      <td>~ Olayinka</td>\n",
       "      <td>Welcome to Swifyfly Courier/Delivery Service ...</td>\n",
       "      <td>[]</td>\n",
       "      <td>1</td>\n",
       "      <td>09</td>\n",
       "      <td>02</td>\n",
       "      <td>2024</td>\n",
       "    </tr>\n",
       "    <tr>\n",
       "      <th>1090</th>\n",
       "      <td>[09/02/2024</td>\n",
       "      <td>12:09</td>\n",
       "      <td>~ Farmwella Nigeria Limited</td>\n",
       "      <td>Hello everyone,  It's important to have your ...</td>\n",
       "      <td>[]</td>\n",
       "      <td>0</td>\n",
       "      <td>09</td>\n",
       "      <td>02</td>\n",
       "      <td>2024</td>\n",
       "    </tr>\n",
       "    <tr>\n",
       "      <th>1091</th>\n",
       "      <td>[11/02/2024</td>\n",
       "      <td>18:51</td>\n",
       "      <td>~ KAY</td>\n",
       "      <td>‎This message was deleted.</td>\n",
       "      <td>[]</td>\n",
       "      <td>0</td>\n",
       "      <td>11</td>\n",
       "      <td>02</td>\n",
       "      <td>2024</td>\n",
       "    </tr>\n",
       "    <tr>\n",
       "      <th>1093</th>\n",
       "      <td>[11/02/2024</td>\n",
       "      <td>23:15</td>\n",
       "      <td>~ Olayinka</td>\n",
       "      <td>Done</td>\n",
       "      <td>[]</td>\n",
       "      <td>0</td>\n",
       "      <td>11</td>\n",
       "      <td>02</td>\n",
       "      <td>2024</td>\n",
       "    </tr>\n",
       "    <tr>\n",
       "      <th>1094</th>\n",
       "      <td>[12/02/2024</td>\n",
       "      <td>00:09</td>\n",
       "      <td>~ Oluwakemi</td>\n",
       "      <td>Done</td>\n",
       "      <td>[]</td>\n",
       "      <td>0</td>\n",
       "      <td>12</td>\n",
       "      <td>02</td>\n",
       "      <td>2024</td>\n",
       "    </tr>\n",
       "  </tbody>\n",
       "</table>\n",
       "<p>1060 rows × 9 columns</p>\n",
       "</div>"
      ],
      "text/plain": [
       "             Date    Time                                Author  \\\n",
       "0     [14/12/2023   10:05  Ijesha Digital Hub Training Cohort 1   \n",
       "1     [14/12/2023   10:05           ~ Farmwella Nigeria Limited   \n",
       "2     [14/12/2023   10:05                   ~ Tsmart Solutions.   \n",
       "3     [14/12/2023   10:05                  ~ Alex Omoniyi (FCA)   \n",
       "4     [14/12/2023   10:05    ~ O. D. AJAYI (CCSP, ACICRM, MICA)   \n",
       "...           ...     ...                                   ...   \n",
       "1089  [09/02/2024   10:31                            ~ Olayinka   \n",
       "1090  [09/02/2024   12:09           ~ Farmwella Nigeria Limited   \n",
       "1091  [11/02/2024   18:51                                 ~ KAY   \n",
       "1093  [11/02/2024   23:15                            ~ Olayinka   \n",
       "1094  [12/02/2024   00:09                           ~ Oluwakemi   \n",
       "\n",
       "                                                Message emoji  urlcount day  \\\n",
       "0                ‎~ Farmwella Nigeria Limited added you    []         0  14   \n",
       "1      ‎~ Farmwella Nigeria Limited changed this gro...    []         0  14   \n",
       "2      ‎~ Farmwella Nigeria Limited added ~ Tsmart S...    []         0  14   \n",
       "3      ‎~ Farmwella Nigeria Limited added ~ Alex Omo...    []         0  14   \n",
       "4      ‎~ Farmwella Nigeria Limited added ~ O. D. AJ...    []         0  14   \n",
       "...                                                 ...   ...       ...  ..   \n",
       "1089   Welcome to Swifyfly Courier/Delivery Service ...    []         1  09   \n",
       "1090   Hello everyone,  It's important to have your ...    []         0  09   \n",
       "1091                         ‎This message was deleted.    []         0  11   \n",
       "1093                                               Done    []         0  11   \n",
       "1094                                               Done    []         0  12   \n",
       "\n",
       "     month  year  \n",
       "0       12  2023  \n",
       "1       12  2023  \n",
       "2       12  2023  \n",
       "3       12  2023  \n",
       "4       12  2023  \n",
       "...    ...   ...  \n",
       "1089    02  2024  \n",
       "1090    02  2024  \n",
       "1091    02  2024  \n",
       "1093    02  2024  \n",
       "1094    02  2024  \n",
       "\n",
       "[1060 rows x 9 columns]"
      ]
     },
     "execution_count": 127,
     "metadata": {},
     "output_type": "execute_result"
    }
   ],
   "source": [
    "#cleaning the day colunm\n",
    "\n",
    "df['day']=df['day'].str.replace('[','')\n",
    "df"
   ]
  },
  {
   "cell_type": "code",
   "execution_count": 128,
   "metadata": {},
   "outputs": [],
   "source": [
    "df = df.drop(['Date'], axis = 1)"
   ]
  },
  {
   "cell_type": "code",
   "execution_count": 129,
   "metadata": {},
   "outputs": [
    {
     "data": {
      "text/html": [
       "<div>\n",
       "<style scoped>\n",
       "    .dataframe tbody tr th:only-of-type {\n",
       "        vertical-align: middle;\n",
       "    }\n",
       "\n",
       "    .dataframe tbody tr th {\n",
       "        vertical-align: top;\n",
       "    }\n",
       "\n",
       "    .dataframe thead th {\n",
       "        text-align: right;\n",
       "    }\n",
       "</style>\n",
       "<table border=\"1\" class=\"dataframe\">\n",
       "  <thead>\n",
       "    <tr style=\"text-align: right;\">\n",
       "      <th></th>\n",
       "      <th>Time</th>\n",
       "      <th>Author</th>\n",
       "      <th>Message</th>\n",
       "      <th>emoji</th>\n",
       "      <th>urlcount</th>\n",
       "      <th>day</th>\n",
       "      <th>month</th>\n",
       "      <th>year</th>\n",
       "    </tr>\n",
       "  </thead>\n",
       "  <tbody>\n",
       "    <tr>\n",
       "      <th>0</th>\n",
       "      <td>10:05</td>\n",
       "      <td>Ijesha Digital Hub Training Cohort 1</td>\n",
       "      <td>‎~ Farmwella Nigeria Limited added you</td>\n",
       "      <td>[]</td>\n",
       "      <td>0</td>\n",
       "      <td>14</td>\n",
       "      <td>12</td>\n",
       "      <td>2023</td>\n",
       "    </tr>\n",
       "    <tr>\n",
       "      <th>1</th>\n",
       "      <td>10:05</td>\n",
       "      <td>~ Farmwella Nigeria Limited</td>\n",
       "      <td>‎~ Farmwella Nigeria Limited changed this gro...</td>\n",
       "      <td>[]</td>\n",
       "      <td>0</td>\n",
       "      <td>14</td>\n",
       "      <td>12</td>\n",
       "      <td>2023</td>\n",
       "    </tr>\n",
       "    <tr>\n",
       "      <th>2</th>\n",
       "      <td>10:05</td>\n",
       "      <td>~ Tsmart Solutions.</td>\n",
       "      <td>‎~ Farmwella Nigeria Limited added ~ Tsmart S...</td>\n",
       "      <td>[]</td>\n",
       "      <td>0</td>\n",
       "      <td>14</td>\n",
       "      <td>12</td>\n",
       "      <td>2023</td>\n",
       "    </tr>\n",
       "    <tr>\n",
       "      <th>3</th>\n",
       "      <td>10:05</td>\n",
       "      <td>~ Alex Omoniyi (FCA)</td>\n",
       "      <td>‎~ Farmwella Nigeria Limited added ~ Alex Omo...</td>\n",
       "      <td>[]</td>\n",
       "      <td>0</td>\n",
       "      <td>14</td>\n",
       "      <td>12</td>\n",
       "      <td>2023</td>\n",
       "    </tr>\n",
       "    <tr>\n",
       "      <th>4</th>\n",
       "      <td>10:05</td>\n",
       "      <td>~ O. D. AJAYI (CCSP, ACICRM, MICA)</td>\n",
       "      <td>‎~ Farmwella Nigeria Limited added ~ O. D. AJ...</td>\n",
       "      <td>[]</td>\n",
       "      <td>0</td>\n",
       "      <td>14</td>\n",
       "      <td>12</td>\n",
       "      <td>2023</td>\n",
       "    </tr>\n",
       "    <tr>\n",
       "      <th>...</th>\n",
       "      <td>...</td>\n",
       "      <td>...</td>\n",
       "      <td>...</td>\n",
       "      <td>...</td>\n",
       "      <td>...</td>\n",
       "      <td>...</td>\n",
       "      <td>...</td>\n",
       "      <td>...</td>\n",
       "    </tr>\n",
       "    <tr>\n",
       "      <th>1089</th>\n",
       "      <td>10:31</td>\n",
       "      <td>~ Olayinka</td>\n",
       "      <td>Welcome to Swifyfly Courier/Delivery Service ...</td>\n",
       "      <td>[]</td>\n",
       "      <td>1</td>\n",
       "      <td>09</td>\n",
       "      <td>02</td>\n",
       "      <td>2024</td>\n",
       "    </tr>\n",
       "    <tr>\n",
       "      <th>1090</th>\n",
       "      <td>12:09</td>\n",
       "      <td>~ Farmwella Nigeria Limited</td>\n",
       "      <td>Hello everyone,  It's important to have your ...</td>\n",
       "      <td>[]</td>\n",
       "      <td>0</td>\n",
       "      <td>09</td>\n",
       "      <td>02</td>\n",
       "      <td>2024</td>\n",
       "    </tr>\n",
       "    <tr>\n",
       "      <th>1091</th>\n",
       "      <td>18:51</td>\n",
       "      <td>~ KAY</td>\n",
       "      <td>‎This message was deleted.</td>\n",
       "      <td>[]</td>\n",
       "      <td>0</td>\n",
       "      <td>11</td>\n",
       "      <td>02</td>\n",
       "      <td>2024</td>\n",
       "    </tr>\n",
       "    <tr>\n",
       "      <th>1093</th>\n",
       "      <td>23:15</td>\n",
       "      <td>~ Olayinka</td>\n",
       "      <td>Done</td>\n",
       "      <td>[]</td>\n",
       "      <td>0</td>\n",
       "      <td>11</td>\n",
       "      <td>02</td>\n",
       "      <td>2024</td>\n",
       "    </tr>\n",
       "    <tr>\n",
       "      <th>1094</th>\n",
       "      <td>00:09</td>\n",
       "      <td>~ Oluwakemi</td>\n",
       "      <td>Done</td>\n",
       "      <td>[]</td>\n",
       "      <td>0</td>\n",
       "      <td>12</td>\n",
       "      <td>02</td>\n",
       "      <td>2024</td>\n",
       "    </tr>\n",
       "  </tbody>\n",
       "</table>\n",
       "<p>1060 rows × 8 columns</p>\n",
       "</div>"
      ],
      "text/plain": [
       "        Time                                Author  \\\n",
       "0      10:05  Ijesha Digital Hub Training Cohort 1   \n",
       "1      10:05           ~ Farmwella Nigeria Limited   \n",
       "2      10:05                   ~ Tsmart Solutions.   \n",
       "3      10:05                  ~ Alex Omoniyi (FCA)   \n",
       "4      10:05    ~ O. D. AJAYI (CCSP, ACICRM, MICA)   \n",
       "...      ...                                   ...   \n",
       "1089   10:31                            ~ Olayinka   \n",
       "1090   12:09           ~ Farmwella Nigeria Limited   \n",
       "1091   18:51                                 ~ KAY   \n",
       "1093   23:15                            ~ Olayinka   \n",
       "1094   00:09                           ~ Oluwakemi   \n",
       "\n",
       "                                                Message emoji  urlcount day  \\\n",
       "0                ‎~ Farmwella Nigeria Limited added you    []         0  14   \n",
       "1      ‎~ Farmwella Nigeria Limited changed this gro...    []         0  14   \n",
       "2      ‎~ Farmwella Nigeria Limited added ~ Tsmart S...    []         0  14   \n",
       "3      ‎~ Farmwella Nigeria Limited added ~ Alex Omo...    []         0  14   \n",
       "4      ‎~ Farmwella Nigeria Limited added ~ O. D. AJ...    []         0  14   \n",
       "...                                                 ...   ...       ...  ..   \n",
       "1089   Welcome to Swifyfly Courier/Delivery Service ...    []         1  09   \n",
       "1090   Hello everyone,  It's important to have your ...    []         0  09   \n",
       "1091                         ‎This message was deleted.    []         0  11   \n",
       "1093                                               Done    []         0  11   \n",
       "1094                                               Done    []         0  12   \n",
       "\n",
       "     month  year  \n",
       "0       12  2023  \n",
       "1       12  2023  \n",
       "2       12  2023  \n",
       "3       12  2023  \n",
       "4       12  2023  \n",
       "...    ...   ...  \n",
       "1089    02  2024  \n",
       "1090    02  2024  \n",
       "1091    02  2024  \n",
       "1093    02  2024  \n",
       "1094    02  2024  \n",
       "\n",
       "[1060 rows x 8 columns]"
      ]
     },
     "execution_count": 129,
     "metadata": {},
     "output_type": "execute_result"
    }
   ],
   "source": [
    "df"
   ]
  },
  {
   "cell_type": "code",
   "execution_count": 130,
   "metadata": {},
   "outputs": [
    {
     "data": {
      "text/html": [
       "<div>\n",
       "<style scoped>\n",
       "    .dataframe tbody tr th:only-of-type {\n",
       "        vertical-align: middle;\n",
       "    }\n",
       "\n",
       "    .dataframe tbody tr th {\n",
       "        vertical-align: top;\n",
       "    }\n",
       "\n",
       "    .dataframe thead th {\n",
       "        text-align: right;\n",
       "    }\n",
       "</style>\n",
       "<table border=\"1\" class=\"dataframe\">\n",
       "  <thead>\n",
       "    <tr style=\"text-align: right;\">\n",
       "      <th></th>\n",
       "      <th>Letter_Count</th>\n",
       "      <th>Word_Count</th>\n",
       "      <th>MessageCount</th>\n",
       "      <th>emojicount</th>\n",
       "    </tr>\n",
       "  </thead>\n",
       "  <tbody>\n",
       "    <tr>\n",
       "      <th>0</th>\n",
       "      <td>39</td>\n",
       "      <td>6</td>\n",
       "      <td>1</td>\n",
       "      <td>0</td>\n",
       "    </tr>\n",
       "    <tr>\n",
       "      <th>1</th>\n",
       "      <td>55</td>\n",
       "      <td>8</td>\n",
       "      <td>1</td>\n",
       "      <td>0</td>\n",
       "    </tr>\n",
       "    <tr>\n",
       "      <th>2</th>\n",
       "      <td>55</td>\n",
       "      <td>7</td>\n",
       "      <td>1</td>\n",
       "      <td>0</td>\n",
       "    </tr>\n",
       "    <tr>\n",
       "      <th>3</th>\n",
       "      <td>56</td>\n",
       "      <td>8</td>\n",
       "      <td>1</td>\n",
       "      <td>0</td>\n",
       "    </tr>\n",
       "    <tr>\n",
       "      <th>4</th>\n",
       "      <td>70</td>\n",
       "      <td>11</td>\n",
       "      <td>1</td>\n",
       "      <td>0</td>\n",
       "    </tr>\n",
       "    <tr>\n",
       "      <th>...</th>\n",
       "      <td>...</td>\n",
       "      <td>...</td>\n",
       "      <td>...</td>\n",
       "      <td>...</td>\n",
       "    </tr>\n",
       "    <tr>\n",
       "      <th>1088</th>\n",
       "      <td>27</td>\n",
       "      <td>5</td>\n",
       "      <td>1</td>\n",
       "      <td>0</td>\n",
       "    </tr>\n",
       "    <tr>\n",
       "      <th>1090</th>\n",
       "      <td>142</td>\n",
       "      <td>25</td>\n",
       "      <td>1</td>\n",
       "      <td>0</td>\n",
       "    </tr>\n",
       "    <tr>\n",
       "      <th>1091</th>\n",
       "      <td>27</td>\n",
       "      <td>5</td>\n",
       "      <td>1</td>\n",
       "      <td>0</td>\n",
       "    </tr>\n",
       "    <tr>\n",
       "      <th>1093</th>\n",
       "      <td>5</td>\n",
       "      <td>2</td>\n",
       "      <td>1</td>\n",
       "      <td>0</td>\n",
       "    </tr>\n",
       "    <tr>\n",
       "      <th>1094</th>\n",
       "      <td>5</td>\n",
       "      <td>2</td>\n",
       "      <td>1</td>\n",
       "      <td>0</td>\n",
       "    </tr>\n",
       "  </tbody>\n",
       "</table>\n",
       "<p>973 rows × 4 columns</p>\n",
       "</div>"
      ],
      "text/plain": [
       "      Letter_Count  Word_Count  MessageCount  emojicount\n",
       "0               39           6             1           0\n",
       "1               55           8             1           0\n",
       "2               55           7             1           0\n",
       "3               56           8             1           0\n",
       "4               70          11             1           0\n",
       "...            ...         ...           ...         ...\n",
       "1088            27           5             1           0\n",
       "1090           142          25             1           0\n",
       "1091            27           5             1           0\n",
       "1093             5           2             1           0\n",
       "1094             5           2             1           0\n",
       "\n",
       "[973 rows x 4 columns]"
      ]
     },
     "execution_count": 130,
     "metadata": {},
     "output_type": "execute_result"
    }
   ],
   "source": [
    "messages_df = messages_df.drop(['Date', 'Time', 'Author', 'Message', 'urlcount', 'emoji'], axis = 1)\n",
    "messages_df\n",
    "\n",
    "\n"
   ]
  },
  {
   "cell_type": "code",
   "execution_count": 131,
   "metadata": {},
   "outputs": [
    {
     "data": {
      "text/html": [
       "<div>\n",
       "<style scoped>\n",
       "    .dataframe tbody tr th:only-of-type {\n",
       "        vertical-align: middle;\n",
       "    }\n",
       "\n",
       "    .dataframe tbody tr th {\n",
       "        vertical-align: top;\n",
       "    }\n",
       "\n",
       "    .dataframe thead th {\n",
       "        text-align: right;\n",
       "    }\n",
       "</style>\n",
       "<table border=\"1\" class=\"dataframe\">\n",
       "  <thead>\n",
       "    <tr style=\"text-align: right;\">\n",
       "      <th></th>\n",
       "      <th>Time</th>\n",
       "      <th>Author</th>\n",
       "      <th>Message</th>\n",
       "      <th>emoji</th>\n",
       "      <th>urlcount</th>\n",
       "      <th>day</th>\n",
       "      <th>month</th>\n",
       "      <th>year</th>\n",
       "      <th>Letter_Count</th>\n",
       "      <th>Word_Count</th>\n",
       "      <th>MessageCount</th>\n",
       "      <th>emojicount</th>\n",
       "    </tr>\n",
       "  </thead>\n",
       "  <tbody>\n",
       "    <tr>\n",
       "      <th>0</th>\n",
       "      <td>10:05</td>\n",
       "      <td>Ijesha Digital Hub Training Cohort 1</td>\n",
       "      <td>‎~ Farmwella Nigeria Limited added you</td>\n",
       "      <td>[]</td>\n",
       "      <td>0</td>\n",
       "      <td>14</td>\n",
       "      <td>12</td>\n",
       "      <td>2023</td>\n",
       "      <td>39.0</td>\n",
       "      <td>6.0</td>\n",
       "      <td>1.0</td>\n",
       "      <td>0.0</td>\n",
       "    </tr>\n",
       "    <tr>\n",
       "      <th>1</th>\n",
       "      <td>10:05</td>\n",
       "      <td>~ Farmwella Nigeria Limited</td>\n",
       "      <td>‎~ Farmwella Nigeria Limited changed this gro...</td>\n",
       "      <td>[]</td>\n",
       "      <td>0</td>\n",
       "      <td>14</td>\n",
       "      <td>12</td>\n",
       "      <td>2023</td>\n",
       "      <td>55.0</td>\n",
       "      <td>8.0</td>\n",
       "      <td>1.0</td>\n",
       "      <td>0.0</td>\n",
       "    </tr>\n",
       "    <tr>\n",
       "      <th>2</th>\n",
       "      <td>10:05</td>\n",
       "      <td>~ Tsmart Solutions.</td>\n",
       "      <td>‎~ Farmwella Nigeria Limited added ~ Tsmart S...</td>\n",
       "      <td>[]</td>\n",
       "      <td>0</td>\n",
       "      <td>14</td>\n",
       "      <td>12</td>\n",
       "      <td>2023</td>\n",
       "      <td>55.0</td>\n",
       "      <td>7.0</td>\n",
       "      <td>1.0</td>\n",
       "      <td>0.0</td>\n",
       "    </tr>\n",
       "    <tr>\n",
       "      <th>3</th>\n",
       "      <td>10:05</td>\n",
       "      <td>~ Alex Omoniyi (FCA)</td>\n",
       "      <td>‎~ Farmwella Nigeria Limited added ~ Alex Omo...</td>\n",
       "      <td>[]</td>\n",
       "      <td>0</td>\n",
       "      <td>14</td>\n",
       "      <td>12</td>\n",
       "      <td>2023</td>\n",
       "      <td>56.0</td>\n",
       "      <td>8.0</td>\n",
       "      <td>1.0</td>\n",
       "      <td>0.0</td>\n",
       "    </tr>\n",
       "    <tr>\n",
       "      <th>4</th>\n",
       "      <td>10:05</td>\n",
       "      <td>~ O. D. AJAYI (CCSP, ACICRM, MICA)</td>\n",
       "      <td>‎~ Farmwella Nigeria Limited added ~ O. D. AJ...</td>\n",
       "      <td>[]</td>\n",
       "      <td>0</td>\n",
       "      <td>14</td>\n",
       "      <td>12</td>\n",
       "      <td>2023</td>\n",
       "      <td>70.0</td>\n",
       "      <td>11.0</td>\n",
       "      <td>1.0</td>\n",
       "      <td>0.0</td>\n",
       "    </tr>\n",
       "    <tr>\n",
       "      <th>...</th>\n",
       "      <td>...</td>\n",
       "      <td>...</td>\n",
       "      <td>...</td>\n",
       "      <td>...</td>\n",
       "      <td>...</td>\n",
       "      <td>...</td>\n",
       "      <td>...</td>\n",
       "      <td>...</td>\n",
       "      <td>...</td>\n",
       "      <td>...</td>\n",
       "      <td>...</td>\n",
       "      <td>...</td>\n",
       "    </tr>\n",
       "    <tr>\n",
       "      <th>1089</th>\n",
       "      <td>10:31</td>\n",
       "      <td>~ Olayinka</td>\n",
       "      <td>Welcome to Swifyfly Courier/Delivery Service ...</td>\n",
       "      <td>[]</td>\n",
       "      <td>1</td>\n",
       "      <td>09</td>\n",
       "      <td>02</td>\n",
       "      <td>2024</td>\n",
       "      <td>NaN</td>\n",
       "      <td>NaN</td>\n",
       "      <td>NaN</td>\n",
       "      <td>NaN</td>\n",
       "    </tr>\n",
       "    <tr>\n",
       "      <th>1090</th>\n",
       "      <td>12:09</td>\n",
       "      <td>~ Farmwella Nigeria Limited</td>\n",
       "      <td>Hello everyone,  It's important to have your ...</td>\n",
       "      <td>[]</td>\n",
       "      <td>0</td>\n",
       "      <td>09</td>\n",
       "      <td>02</td>\n",
       "      <td>2024</td>\n",
       "      <td>142.0</td>\n",
       "      <td>25.0</td>\n",
       "      <td>1.0</td>\n",
       "      <td>0.0</td>\n",
       "    </tr>\n",
       "    <tr>\n",
       "      <th>1091</th>\n",
       "      <td>18:51</td>\n",
       "      <td>~ KAY</td>\n",
       "      <td>‎This message was deleted.</td>\n",
       "      <td>[]</td>\n",
       "      <td>0</td>\n",
       "      <td>11</td>\n",
       "      <td>02</td>\n",
       "      <td>2024</td>\n",
       "      <td>27.0</td>\n",
       "      <td>5.0</td>\n",
       "      <td>1.0</td>\n",
       "      <td>0.0</td>\n",
       "    </tr>\n",
       "    <tr>\n",
       "      <th>1093</th>\n",
       "      <td>23:15</td>\n",
       "      <td>~ Olayinka</td>\n",
       "      <td>Done</td>\n",
       "      <td>[]</td>\n",
       "      <td>0</td>\n",
       "      <td>11</td>\n",
       "      <td>02</td>\n",
       "      <td>2024</td>\n",
       "      <td>5.0</td>\n",
       "      <td>2.0</td>\n",
       "      <td>1.0</td>\n",
       "      <td>0.0</td>\n",
       "    </tr>\n",
       "    <tr>\n",
       "      <th>1094</th>\n",
       "      <td>00:09</td>\n",
       "      <td>~ Oluwakemi</td>\n",
       "      <td>Done</td>\n",
       "      <td>[]</td>\n",
       "      <td>0</td>\n",
       "      <td>12</td>\n",
       "      <td>02</td>\n",
       "      <td>2024</td>\n",
       "      <td>5.0</td>\n",
       "      <td>2.0</td>\n",
       "      <td>1.0</td>\n",
       "      <td>0.0</td>\n",
       "    </tr>\n",
       "  </tbody>\n",
       "</table>\n",
       "<p>1060 rows × 12 columns</p>\n",
       "</div>"
      ],
      "text/plain": [
       "        Time                                Author  \\\n",
       "0      10:05  Ijesha Digital Hub Training Cohort 1   \n",
       "1      10:05           ~ Farmwella Nigeria Limited   \n",
       "2      10:05                   ~ Tsmart Solutions.   \n",
       "3      10:05                  ~ Alex Omoniyi (FCA)   \n",
       "4      10:05    ~ O. D. AJAYI (CCSP, ACICRM, MICA)   \n",
       "...      ...                                   ...   \n",
       "1089   10:31                            ~ Olayinka   \n",
       "1090   12:09           ~ Farmwella Nigeria Limited   \n",
       "1091   18:51                                 ~ KAY   \n",
       "1093   23:15                            ~ Olayinka   \n",
       "1094   00:09                           ~ Oluwakemi   \n",
       "\n",
       "                                                Message emoji  urlcount day  \\\n",
       "0                ‎~ Farmwella Nigeria Limited added you    []         0  14   \n",
       "1      ‎~ Farmwella Nigeria Limited changed this gro...    []         0  14   \n",
       "2      ‎~ Farmwella Nigeria Limited added ~ Tsmart S...    []         0  14   \n",
       "3      ‎~ Farmwella Nigeria Limited added ~ Alex Omo...    []         0  14   \n",
       "4      ‎~ Farmwella Nigeria Limited added ~ O. D. AJ...    []         0  14   \n",
       "...                                                 ...   ...       ...  ..   \n",
       "1089   Welcome to Swifyfly Courier/Delivery Service ...    []         1  09   \n",
       "1090   Hello everyone,  It's important to have your ...    []         0  09   \n",
       "1091                         ‎This message was deleted.    []         0  11   \n",
       "1093                                               Done    []         0  11   \n",
       "1094                                               Done    []         0  12   \n",
       "\n",
       "     month  year  Letter_Count  Word_Count  MessageCount  emojicount  \n",
       "0       12  2023          39.0         6.0           1.0         0.0  \n",
       "1       12  2023          55.0         8.0           1.0         0.0  \n",
       "2       12  2023          55.0         7.0           1.0         0.0  \n",
       "3       12  2023          56.0         8.0           1.0         0.0  \n",
       "4       12  2023          70.0        11.0           1.0         0.0  \n",
       "...    ...   ...           ...         ...           ...         ...  \n",
       "1089    02  2024           NaN         NaN           NaN         NaN  \n",
       "1090    02  2024         142.0        25.0           1.0         0.0  \n",
       "1091    02  2024          27.0         5.0           1.0         0.0  \n",
       "1093    02  2024           5.0         2.0           1.0         0.0  \n",
       "1094    02  2024           5.0         2.0           1.0         0.0  \n",
       "\n",
       "[1060 rows x 12 columns]"
      ]
     },
     "execution_count": 131,
     "metadata": {},
     "output_type": "execute_result"
    }
   ],
   "source": [
    "data = pd.concat([df,messages_df], axis= 1)\n",
    "data"
   ]
  },
  {
   "cell_type": "code",
   "execution_count": 132,
   "metadata": {},
   "outputs": [],
   "source": [
    "data = data.drop(data.index[0])"
   ]
  },
  {
   "cell_type": "code",
   "execution_count": 133,
   "metadata": {},
   "outputs": [
    {
     "data": {
      "text/html": [
       "<div>\n",
       "<style scoped>\n",
       "    .dataframe tbody tr th:only-of-type {\n",
       "        vertical-align: middle;\n",
       "    }\n",
       "\n",
       "    .dataframe tbody tr th {\n",
       "        vertical-align: top;\n",
       "    }\n",
       "\n",
       "    .dataframe thead th {\n",
       "        text-align: right;\n",
       "    }\n",
       "</style>\n",
       "<table border=\"1\" class=\"dataframe\">\n",
       "  <thead>\n",
       "    <tr style=\"text-align: right;\">\n",
       "      <th></th>\n",
       "      <th>Time</th>\n",
       "      <th>Author</th>\n",
       "      <th>Message</th>\n",
       "      <th>emoji</th>\n",
       "      <th>urlcount</th>\n",
       "      <th>day</th>\n",
       "      <th>month</th>\n",
       "      <th>year</th>\n",
       "      <th>Letter_Count</th>\n",
       "      <th>Word_Count</th>\n",
       "      <th>MessageCount</th>\n",
       "      <th>emojicount</th>\n",
       "    </tr>\n",
       "  </thead>\n",
       "  <tbody>\n",
       "    <tr>\n",
       "      <th>1</th>\n",
       "      <td>10:05</td>\n",
       "      <td>~ Farmwella Nigeria Limited</td>\n",
       "      <td>‎~ Farmwella Nigeria Limited changed this gro...</td>\n",
       "      <td>[]</td>\n",
       "      <td>0</td>\n",
       "      <td>14</td>\n",
       "      <td>12</td>\n",
       "      <td>2023</td>\n",
       "      <td>55.0</td>\n",
       "      <td>8.0</td>\n",
       "      <td>1.0</td>\n",
       "      <td>0.0</td>\n",
       "    </tr>\n",
       "    <tr>\n",
       "      <th>2</th>\n",
       "      <td>10:05</td>\n",
       "      <td>~ Tsmart Solutions.</td>\n",
       "      <td>‎~ Farmwella Nigeria Limited added ~ Tsmart S...</td>\n",
       "      <td>[]</td>\n",
       "      <td>0</td>\n",
       "      <td>14</td>\n",
       "      <td>12</td>\n",
       "      <td>2023</td>\n",
       "      <td>55.0</td>\n",
       "      <td>7.0</td>\n",
       "      <td>1.0</td>\n",
       "      <td>0.0</td>\n",
       "    </tr>\n",
       "    <tr>\n",
       "      <th>3</th>\n",
       "      <td>10:05</td>\n",
       "      <td>~ Alex Omoniyi (FCA)</td>\n",
       "      <td>‎~ Farmwella Nigeria Limited added ~ Alex Omo...</td>\n",
       "      <td>[]</td>\n",
       "      <td>0</td>\n",
       "      <td>14</td>\n",
       "      <td>12</td>\n",
       "      <td>2023</td>\n",
       "      <td>56.0</td>\n",
       "      <td>8.0</td>\n",
       "      <td>1.0</td>\n",
       "      <td>0.0</td>\n",
       "    </tr>\n",
       "    <tr>\n",
       "      <th>4</th>\n",
       "      <td>10:05</td>\n",
       "      <td>~ O. D. AJAYI (CCSP, ACICRM, MICA)</td>\n",
       "      <td>‎~ Farmwella Nigeria Limited added ~ O. D. AJ...</td>\n",
       "      <td>[]</td>\n",
       "      <td>0</td>\n",
       "      <td>14</td>\n",
       "      <td>12</td>\n",
       "      <td>2023</td>\n",
       "      <td>70.0</td>\n",
       "      <td>11.0</td>\n",
       "      <td>1.0</td>\n",
       "      <td>0.0</td>\n",
       "    </tr>\n",
       "    <tr>\n",
       "      <th>5</th>\n",
       "      <td>10:05</td>\n",
       "      <td>~ Ibukunoluwa💕💕</td>\n",
       "      <td>‎~ Farmwella Nigeria Limited added ~ Ibukunol...</td>\n",
       "      <td>[💕, 💕]</td>\n",
       "      <td>0</td>\n",
       "      <td>14</td>\n",
       "      <td>12</td>\n",
       "      <td>2023</td>\n",
       "      <td>51.0</td>\n",
       "      <td>6.0</td>\n",
       "      <td>1.0</td>\n",
       "      <td>2.0</td>\n",
       "    </tr>\n",
       "    <tr>\n",
       "      <th>...</th>\n",
       "      <td>...</td>\n",
       "      <td>...</td>\n",
       "      <td>...</td>\n",
       "      <td>...</td>\n",
       "      <td>...</td>\n",
       "      <td>...</td>\n",
       "      <td>...</td>\n",
       "      <td>...</td>\n",
       "      <td>...</td>\n",
       "      <td>...</td>\n",
       "      <td>...</td>\n",
       "      <td>...</td>\n",
       "    </tr>\n",
       "    <tr>\n",
       "      <th>1089</th>\n",
       "      <td>10:31</td>\n",
       "      <td>~ Olayinka</td>\n",
       "      <td>Welcome to Swifyfly Courier/Delivery Service ...</td>\n",
       "      <td>[]</td>\n",
       "      <td>1</td>\n",
       "      <td>09</td>\n",
       "      <td>02</td>\n",
       "      <td>2024</td>\n",
       "      <td>NaN</td>\n",
       "      <td>NaN</td>\n",
       "      <td>NaN</td>\n",
       "      <td>NaN</td>\n",
       "    </tr>\n",
       "    <tr>\n",
       "      <th>1090</th>\n",
       "      <td>12:09</td>\n",
       "      <td>~ Farmwella Nigeria Limited</td>\n",
       "      <td>Hello everyone,  It's important to have your ...</td>\n",
       "      <td>[]</td>\n",
       "      <td>0</td>\n",
       "      <td>09</td>\n",
       "      <td>02</td>\n",
       "      <td>2024</td>\n",
       "      <td>142.0</td>\n",
       "      <td>25.0</td>\n",
       "      <td>1.0</td>\n",
       "      <td>0.0</td>\n",
       "    </tr>\n",
       "    <tr>\n",
       "      <th>1091</th>\n",
       "      <td>18:51</td>\n",
       "      <td>~ KAY</td>\n",
       "      <td>‎This message was deleted.</td>\n",
       "      <td>[]</td>\n",
       "      <td>0</td>\n",
       "      <td>11</td>\n",
       "      <td>02</td>\n",
       "      <td>2024</td>\n",
       "      <td>27.0</td>\n",
       "      <td>5.0</td>\n",
       "      <td>1.0</td>\n",
       "      <td>0.0</td>\n",
       "    </tr>\n",
       "    <tr>\n",
       "      <th>1093</th>\n",
       "      <td>23:15</td>\n",
       "      <td>~ Olayinka</td>\n",
       "      <td>Done</td>\n",
       "      <td>[]</td>\n",
       "      <td>0</td>\n",
       "      <td>11</td>\n",
       "      <td>02</td>\n",
       "      <td>2024</td>\n",
       "      <td>5.0</td>\n",
       "      <td>2.0</td>\n",
       "      <td>1.0</td>\n",
       "      <td>0.0</td>\n",
       "    </tr>\n",
       "    <tr>\n",
       "      <th>1094</th>\n",
       "      <td>00:09</td>\n",
       "      <td>~ Oluwakemi</td>\n",
       "      <td>Done</td>\n",
       "      <td>[]</td>\n",
       "      <td>0</td>\n",
       "      <td>12</td>\n",
       "      <td>02</td>\n",
       "      <td>2024</td>\n",
       "      <td>5.0</td>\n",
       "      <td>2.0</td>\n",
       "      <td>1.0</td>\n",
       "      <td>0.0</td>\n",
       "    </tr>\n",
       "  </tbody>\n",
       "</table>\n",
       "<p>1059 rows × 12 columns</p>\n",
       "</div>"
      ],
      "text/plain": [
       "        Time                              Author  \\\n",
       "1      10:05         ~ Farmwella Nigeria Limited   \n",
       "2      10:05                 ~ Tsmart Solutions.   \n",
       "3      10:05                ~ Alex Omoniyi (FCA)   \n",
       "4      10:05  ~ O. D. AJAYI (CCSP, ACICRM, MICA)   \n",
       "5      10:05                     ~ Ibukunoluwa💕💕   \n",
       "...      ...                                 ...   \n",
       "1089   10:31                          ~ Olayinka   \n",
       "1090   12:09         ~ Farmwella Nigeria Limited   \n",
       "1091   18:51                               ~ KAY   \n",
       "1093   23:15                          ~ Olayinka   \n",
       "1094   00:09                         ~ Oluwakemi   \n",
       "\n",
       "                                                Message   emoji  urlcount day  \\\n",
       "1      ‎~ Farmwella Nigeria Limited changed this gro...      []         0  14   \n",
       "2      ‎~ Farmwella Nigeria Limited added ~ Tsmart S...      []         0  14   \n",
       "3      ‎~ Farmwella Nigeria Limited added ~ Alex Omo...      []         0  14   \n",
       "4      ‎~ Farmwella Nigeria Limited added ~ O. D. AJ...      []         0  14   \n",
       "5      ‎~ Farmwella Nigeria Limited added ~ Ibukunol...  [💕, 💕]         0  14   \n",
       "...                                                 ...     ...       ...  ..   \n",
       "1089   Welcome to Swifyfly Courier/Delivery Service ...      []         1  09   \n",
       "1090   Hello everyone,  It's important to have your ...      []         0  09   \n",
       "1091                         ‎This message was deleted.      []         0  11   \n",
       "1093                                               Done      []         0  11   \n",
       "1094                                               Done      []         0  12   \n",
       "\n",
       "     month  year  Letter_Count  Word_Count  MessageCount  emojicount  \n",
       "1       12  2023          55.0         8.0           1.0         0.0  \n",
       "2       12  2023          55.0         7.0           1.0         0.0  \n",
       "3       12  2023          56.0         8.0           1.0         0.0  \n",
       "4       12  2023          70.0        11.0           1.0         0.0  \n",
       "5       12  2023          51.0         6.0           1.0         2.0  \n",
       "...    ...   ...           ...         ...           ...         ...  \n",
       "1089    02  2024           NaN         NaN           NaN         NaN  \n",
       "1090    02  2024         142.0        25.0           1.0         0.0  \n",
       "1091    02  2024          27.0         5.0           1.0         0.0  \n",
       "1093    02  2024           5.0         2.0           1.0         0.0  \n",
       "1094    02  2024           5.0         2.0           1.0         0.0  \n",
       "\n",
       "[1059 rows x 12 columns]"
      ]
     },
     "execution_count": 133,
     "metadata": {},
     "output_type": "execute_result"
    }
   ],
   "source": [
    "data"
   ]
  },
  {
   "cell_type": "code",
   "execution_count": 134,
   "metadata": {},
   "outputs": [
    {
     "data": {
      "text/plain": [
       "Time             0\n",
       "Author           0\n",
       "Message          0\n",
       "emoji            0\n",
       "urlcount         0\n",
       "day              0\n",
       "month            0\n",
       "year             0\n",
       "Letter_Count    87\n",
       "Word_Count      87\n",
       "MessageCount    87\n",
       "emojicount      87\n",
       "dtype: int64"
      ]
     },
     "execution_count": 134,
     "metadata": {},
     "output_type": "execute_result"
    }
   ],
   "source": [
    "data.isnull().sum()"
   ]
  },
  {
   "cell_type": "markdown",
   "metadata": {},
   "source": [
    "since we have null values in 4 of our columns, let's find the mean and imput them into the null values"
   ]
  },
  {
   "cell_type": "code",
   "execution_count": 135,
   "metadata": {},
   "outputs": [
    {
     "name": "stdout",
     "output_type": "stream",
     "text": [
      "110\n",
      "20\n",
      "1\n",
      "1\n"
     ]
    }
   ],
   "source": [
    "# creating a new variable for the mean values and rounding the up to the nearest wholenumber\n",
    "\n",
    "mean_A = data['Letter_Count'].mean().astype(int)\n",
    "mean_B = data['Word_Count'].mean().astype(int)\n",
    "mean_C = data['MessageCount'].mean().astype(int)\n",
    "mean_D = data['emojicount'].mean().astype(int)\n",
    "\n",
    "print(mean_A)\n",
    "print(mean_B)\n",
    "print(mean_C)\n",
    "print(mean_C)"
   ]
  },
  {
   "cell_type": "code",
   "execution_count": 136,
   "metadata": {},
   "outputs": [],
   "source": [
    "# Create a dictionary of column names and mean values\n",
    "mean_dict = {'Letter_Count': mean_A, 'WordCount': mean_B, 'MessageCount': mean_C, 'emojicount' : mean_D}\n",
    "\n",
    "data.fillna(mean_dict, inplace=True)"
   ]
  },
  {
   "cell_type": "code",
   "execution_count": 137,
   "metadata": {},
   "outputs": [
    {
     "data": {
      "text/plain": [
       "Time             0\n",
       "Author           0\n",
       "Message          0\n",
       "emoji            0\n",
       "urlcount         0\n",
       "day              0\n",
       "month            0\n",
       "year             0\n",
       "Letter_Count     0\n",
       "Word_Count      87\n",
       "MessageCount     0\n",
       "emojicount       0\n",
       "dtype: int64"
      ]
     },
     "execution_count": 137,
     "metadata": {},
     "output_type": "execute_result"
    }
   ],
   "source": [
    "data.isnull().sum()"
   ]
  },
  {
   "cell_type": "code",
   "execution_count": 138,
   "metadata": {},
   "outputs": [],
   "source": [
    "data.Word_Count.fillna(mean_B, inplace = True)"
   ]
  },
  {
   "cell_type": "code",
   "execution_count": 139,
   "metadata": {},
   "outputs": [
    {
     "data": {
      "text/plain": [
       "Time            0\n",
       "Author          0\n",
       "Message         0\n",
       "emoji           0\n",
       "urlcount        0\n",
       "day             0\n",
       "month           0\n",
       "year            0\n",
       "Letter_Count    0\n",
       "Word_Count      0\n",
       "MessageCount    0\n",
       "emojicount      0\n",
       "dtype: int64"
      ]
     },
     "execution_count": 139,
     "metadata": {},
     "output_type": "execute_result"
    }
   ],
   "source": [
    "data.isnull().sum()"
   ]
  },
  {
   "cell_type": "code",
   "execution_count": 140,
   "metadata": {},
   "outputs": [
    {
     "data": {
      "text/html": [
       "<div>\n",
       "<style scoped>\n",
       "    .dataframe tbody tr th:only-of-type {\n",
       "        vertical-align: middle;\n",
       "    }\n",
       "\n",
       "    .dataframe tbody tr th {\n",
       "        vertical-align: top;\n",
       "    }\n",
       "\n",
       "    .dataframe thead th {\n",
       "        text-align: right;\n",
       "    }\n",
       "</style>\n",
       "<table border=\"1\" class=\"dataframe\">\n",
       "  <thead>\n",
       "    <tr style=\"text-align: right;\">\n",
       "      <th></th>\n",
       "      <th>count</th>\n",
       "      <th>unique</th>\n",
       "      <th>top</th>\n",
       "      <th>freq</th>\n",
       "      <th>mean</th>\n",
       "      <th>std</th>\n",
       "      <th>min</th>\n",
       "      <th>25%</th>\n",
       "      <th>50%</th>\n",
       "      <th>75%</th>\n",
       "      <th>max</th>\n",
       "    </tr>\n",
       "  </thead>\n",
       "  <tbody>\n",
       "    <tr>\n",
       "      <th>Time</th>\n",
       "      <td>1059</td>\n",
       "      <td>620</td>\n",
       "      <td>08:14</td>\n",
       "      <td>13</td>\n",
       "      <td>NaN</td>\n",
       "      <td>NaN</td>\n",
       "      <td>NaN</td>\n",
       "      <td>NaN</td>\n",
       "      <td>NaN</td>\n",
       "      <td>NaN</td>\n",
       "      <td>NaN</td>\n",
       "    </tr>\n",
       "    <tr>\n",
       "      <th>Author</th>\n",
       "      <td>1059</td>\n",
       "      <td>126</td>\n",
       "      <td>~ Kazeem Wasiu</td>\n",
       "      <td>81</td>\n",
       "      <td>NaN</td>\n",
       "      <td>NaN</td>\n",
       "      <td>NaN</td>\n",
       "      <td>NaN</td>\n",
       "      <td>NaN</td>\n",
       "      <td>NaN</td>\n",
       "      <td>NaN</td>\n",
       "    </tr>\n",
       "    <tr>\n",
       "      <th>Message</th>\n",
       "      <td>1059</td>\n",
       "      <td>835</td>\n",
       "      <td>image omitted</td>\n",
       "      <td>56</td>\n",
       "      <td>NaN</td>\n",
       "      <td>NaN</td>\n",
       "      <td>NaN</td>\n",
       "      <td>NaN</td>\n",
       "      <td>NaN</td>\n",
       "      <td>NaN</td>\n",
       "      <td>NaN</td>\n",
       "    </tr>\n",
       "    <tr>\n",
       "      <th>emoji</th>\n",
       "      <td>1059</td>\n",
       "      <td>46</td>\n",
       "      <td>[]</td>\n",
       "      <td>994</td>\n",
       "      <td>NaN</td>\n",
       "      <td>NaN</td>\n",
       "      <td>NaN</td>\n",
       "      <td>NaN</td>\n",
       "      <td>NaN</td>\n",
       "      <td>NaN</td>\n",
       "      <td>NaN</td>\n",
       "    </tr>\n",
       "    <tr>\n",
       "      <th>urlcount</th>\n",
       "      <td>1059.0</td>\n",
       "      <td>NaN</td>\n",
       "      <td>NaN</td>\n",
       "      <td>NaN</td>\n",
       "      <td>0.029273</td>\n",
       "      <td>0.268181</td>\n",
       "      <td>0.0</td>\n",
       "      <td>0.0</td>\n",
       "      <td>0.0</td>\n",
       "      <td>0.0</td>\n",
       "      <td>7.0</td>\n",
       "    </tr>\n",
       "    <tr>\n",
       "      <th>day</th>\n",
       "      <td>1059</td>\n",
       "      <td>29</td>\n",
       "      <td>06</td>\n",
       "      <td>268</td>\n",
       "      <td>NaN</td>\n",
       "      <td>NaN</td>\n",
       "      <td>NaN</td>\n",
       "      <td>NaN</td>\n",
       "      <td>NaN</td>\n",
       "      <td>NaN</td>\n",
       "      <td>NaN</td>\n",
       "    </tr>\n",
       "    <tr>\n",
       "      <th>month</th>\n",
       "      <td>1059</td>\n",
       "      <td>3</td>\n",
       "      <td>01</td>\n",
       "      <td>742</td>\n",
       "      <td>NaN</td>\n",
       "      <td>NaN</td>\n",
       "      <td>NaN</td>\n",
       "      <td>NaN</td>\n",
       "      <td>NaN</td>\n",
       "      <td>NaN</td>\n",
       "      <td>NaN</td>\n",
       "    </tr>\n",
       "    <tr>\n",
       "      <th>year</th>\n",
       "      <td>1059</td>\n",
       "      <td>2</td>\n",
       "      <td>2024</td>\n",
       "      <td>778</td>\n",
       "      <td>NaN</td>\n",
       "      <td>NaN</td>\n",
       "      <td>NaN</td>\n",
       "      <td>NaN</td>\n",
       "      <td>NaN</td>\n",
       "      <td>NaN</td>\n",
       "      <td>NaN</td>\n",
       "    </tr>\n",
       "    <tr>\n",
       "      <th>Letter_Count</th>\n",
       "      <td>1059.0</td>\n",
       "      <td>NaN</td>\n",
       "      <td>NaN</td>\n",
       "      <td>NaN</td>\n",
       "      <td>110.811143</td>\n",
       "      <td>205.953801</td>\n",
       "      <td>2.0</td>\n",
       "      <td>24.0</td>\n",
       "      <td>57.0</td>\n",
       "      <td>112.0</td>\n",
       "      <td>2863.0</td>\n",
       "    </tr>\n",
       "    <tr>\n",
       "      <th>Word_Count</th>\n",
       "      <td>1059.0</td>\n",
       "      <td>NaN</td>\n",
       "      <td>NaN</td>\n",
       "      <td>NaN</td>\n",
       "      <td>20.350331</td>\n",
       "      <td>36.431864</td>\n",
       "      <td>2.0</td>\n",
       "      <td>5.0</td>\n",
       "      <td>10.0</td>\n",
       "      <td>21.5</td>\n",
       "      <td>506.0</td>\n",
       "    </tr>\n",
       "    <tr>\n",
       "      <th>MessageCount</th>\n",
       "      <td>1059.0</td>\n",
       "      <td>NaN</td>\n",
       "      <td>NaN</td>\n",
       "      <td>NaN</td>\n",
       "      <td>1.0</td>\n",
       "      <td>0.0</td>\n",
       "      <td>1.0</td>\n",
       "      <td>1.0</td>\n",
       "      <td>1.0</td>\n",
       "      <td>1.0</td>\n",
       "      <td>1.0</td>\n",
       "    </tr>\n",
       "    <tr>\n",
       "      <th>emojicount</th>\n",
       "      <td>1059.0</td>\n",
       "      <td>NaN</td>\n",
       "      <td>NaN</td>\n",
       "      <td>NaN</td>\n",
       "      <td>0.088763</td>\n",
       "      <td>0.412077</td>\n",
       "      <td>0.0</td>\n",
       "      <td>0.0</td>\n",
       "      <td>0.0</td>\n",
       "      <td>0.0</td>\n",
       "      <td>5.0</td>\n",
       "    </tr>\n",
       "  </tbody>\n",
       "</table>\n",
       "</div>"
      ],
      "text/plain": [
       "               count unique             top freq        mean         std  min  \\\n",
       "Time            1059    620           08:14   13         NaN         NaN  NaN   \n",
       "Author          1059    126  ~ Kazeem Wasiu   81         NaN         NaN  NaN   \n",
       "Message         1059    835   image omitted   56         NaN         NaN  NaN   \n",
       "emoji           1059     46              []  994         NaN         NaN  NaN   \n",
       "urlcount      1059.0    NaN             NaN  NaN    0.029273    0.268181  0.0   \n",
       "day             1059     29              06  268         NaN         NaN  NaN   \n",
       "month           1059      3              01  742         NaN         NaN  NaN   \n",
       "year            1059      2            2024  778         NaN         NaN  NaN   \n",
       "Letter_Count  1059.0    NaN             NaN  NaN  110.811143  205.953801  2.0   \n",
       "Word_Count    1059.0    NaN             NaN  NaN   20.350331   36.431864  2.0   \n",
       "MessageCount  1059.0    NaN             NaN  NaN         1.0         0.0  1.0   \n",
       "emojicount    1059.0    NaN             NaN  NaN    0.088763    0.412077  0.0   \n",
       "\n",
       "               25%   50%    75%     max  \n",
       "Time           NaN   NaN    NaN     NaN  \n",
       "Author         NaN   NaN    NaN     NaN  \n",
       "Message        NaN   NaN    NaN     NaN  \n",
       "emoji          NaN   NaN    NaN     NaN  \n",
       "urlcount       0.0   0.0    0.0     7.0  \n",
       "day            NaN   NaN    NaN     NaN  \n",
       "month          NaN   NaN    NaN     NaN  \n",
       "year           NaN   NaN    NaN     NaN  \n",
       "Letter_Count  24.0  57.0  112.0  2863.0  \n",
       "Word_Count     5.0  10.0   21.5   506.0  \n",
       "MessageCount   1.0   1.0    1.0     1.0  \n",
       "emojicount     0.0   0.0    0.0     5.0  "
      ]
     },
     "execution_count": 140,
     "metadata": {},
     "output_type": "execute_result"
    }
   ],
   "source": [
    "data.describe(include='all').T"
   ]
  },
  {
   "cell_type": "code",
   "execution_count": 141,
   "metadata": {},
   "outputs": [],
   "source": [
    "#converting float to intergers.\n",
    "\n",
    "data['urlcount'] = data['urlcount'].astype(int)\n",
    "data['Letter_Count'] = data['Letter_Count'].astype(int)\n",
    "data['Word_Count'] = data['Word_Count'].astype(int)\n",
    "data['MessageCount'] = data['MessageCount'].astype(int)\n",
    "data['emojicount'] = data['emojicount'].astype(int)"
   ]
  },
  {
   "cell_type": "code",
   "execution_count": 142,
   "metadata": {},
   "outputs": [
    {
     "name": "stdout",
     "output_type": "stream",
     "text": [
      "<class 'pandas.core.frame.DataFrame'>\n",
      "Index: 1059 entries, 1 to 1094\n",
      "Data columns (total 12 columns):\n",
      " #   Column        Non-Null Count  Dtype \n",
      "---  ------        --------------  ----- \n",
      " 0   Time          1059 non-null   object\n",
      " 1   Author        1059 non-null   object\n",
      " 2   Message       1059 non-null   object\n",
      " 3   emoji         1059 non-null   object\n",
      " 4   urlcount      1059 non-null   int32 \n",
      " 5   day           1059 non-null   object\n",
      " 6   month         1059 non-null   object\n",
      " 7   year          1059 non-null   object\n",
      " 8   Letter_Count  1059 non-null   int32 \n",
      " 9   Word_Count    1059 non-null   int32 \n",
      " 10  MessageCount  1059 non-null   int32 \n",
      " 11  emojicount    1059 non-null   int32 \n",
      "dtypes: int32(5), object(7)\n",
      "memory usage: 86.9+ KB\n"
     ]
    }
   ],
   "source": [
    "data.info()"
   ]
  },
  {
   "cell_type": "code",
   "execution_count": 143,
   "metadata": {},
   "outputs": [
    {
     "name": "stdout",
     "output_type": "stream",
     "text": [
      "Categorical Variables:\n",
      "Index(['Time', 'Author', 'Message', 'emoji', 'day', 'month', 'year'], dtype='object')\n",
      "Numerical Variables:\n",
      "['urlcount', 'Letter_Count', 'Word_Count', 'MessageCount', 'emojicount']\n"
     ]
    }
   ],
   "source": [
    "# separating Numerical and categorical variables for easy analysis\n",
    "\n",
    "cat_cols=data.select_dtypes(include=['object']).columns\n",
    "num_cols = data.select_dtypes(include=np.number).columns.tolist()\n",
    "print(\"Categorical Variables:\")\n",
    "print(cat_cols)\n",
    "print(\"Numerical Variables:\")\n",
    "print(num_cols)"
   ]
  },
  {
   "cell_type": "code",
   "execution_count": 144,
   "metadata": {},
   "outputs": [
    {
     "name": "stdout",
     "output_type": "stream",
     "text": [
      "urlcount\n",
      "Skew : 18.28\n"
     ]
    },
    {
     "data": {
      "image/png": "[encoded data removed]",
      "text/plain": [
       "<Figure size 1500x400 with 2 Axes>"
      ]
     },
     "metadata": {},
     "output_type": "display_data"
    },
    {
     "name": "stdout",
     "output_type": "stream",
     "text": [
      "Letter_Count\n",
      "Skew : 7.33\n"
     ]
    },
    {
     "data": {
      "image/png": "[encoded data removed]",
      "text/plain": [
       "<Figure size 1500x400 with 2 Axes>"
      ]
     },
     "metadata": {},
     "output_type": "display_data"
    },
    {
     "name": "stdout",
     "output_type": "stream",
     "text": [
      "Word_Count\n",
      "Skew : 7.4\n"
     ]
    },
    {
     "data": {
      "image/png": "[encoded data removed]",
      "text/plain": [
       "<Figure size 1500x400 with 2 Axes>"
      ]
     },
     "metadata": {},
     "output_type": "display_data"
    },
    {
     "name": "stdout",
     "output_type": "stream",
     "text": [
      "MessageCount\n",
      "Skew : 0.0\n"
     ]
    },
    {
     "data": {
      "image/png": "[encoded data removed]",
      "text/plain": [
       "<Figure size 1500x400 with 2 Axes>"
      ]
     },
     "metadata": {},
     "output_type": "display_data"
    },
    {
     "name": "stdout",
     "output_type": "stream",
     "text": [
      "emojicount\n",
      "Skew : 6.14\n"
     ]
    },
    {
     "data": {
      "image/png": "[encoded data removed]",
      "text/plain": [
       "<Figure size 1500x400 with 2 Axes>"
      ]
     },
     "metadata": {},
     "output_type": "display_data"
    }
   ],
   "source": [
    "\n",
    "for col in num_cols:\n",
    "    print(col)\n",
    "    print('Skew :', round(data[col].skew(), 2))\n",
    "    plt.figure(figsize = (15, 4))\n",
    "    plt.subplot(1, 2, 1)\n",
    "    data[col].hist(grid=False)\n",
    "    plt.ylabel('count')\n",
    "    plt.subplot(1, 2, 2)\n",
    "    sns.boxplot(x=data[col])\n",
    "    plt.show()"
   ]
  },
  {
   "cell_type": "code",
   "execution_count": 145,
   "metadata": {
    "scrolled": false
   },
   "outputs": [
    {
     "data": {
      "image/png": "[encoded data removed]",
      "text/plain": [
       "<Figure size 1800x1800 with 6 Axes>"
      ]
     },
     "metadata": {},
     "output_type": "display_data"
    }
   ],
   "source": [
    "fig, axes = plt.subplots(3, 2, figsize = (18, 18))\n",
    "plt.tight_layout(pad = 15)\n",
    "fig.suptitle('Bar plot for all categorical variables in the dataset')\n",
    "sns.countplot(ax = axes[0, 0], x = 'Time', data = data, color = 'blue', \n",
    "              order = data['Time'].value_counts().head(10).index);\n",
    "sns.countplot(ax = axes[0, 1], x = 'Author', data = data, color = 'red',\n",
    "             order = data['Author'].value_counts().head(20).index);\n",
    "sns.countplot(ax = axes[1, 0], x = 'Message', data = data, color = 'blue',\n",
    "             order = data['Message'].value_counts().head(10).index);\n",
    "sns.countplot(ax = axes[1, 1], x = 'day', data = data, color = 'red', \n",
    "              order = data['day'].value_counts().head(10).index);\n",
    "sns.countplot(ax = axes[2, 0], x = 'month', data = data, color = 'blue',\n",
    "             order = data['month'].value_counts().head(5).index);\n",
    "sns.countplot(ax = axes[2, 1], x = 'year', data = data, color = 'red',\n",
    "             order = data['year'].value_counts().index);\n",
    "\n",
    "\n",
    "axes[1][1].tick_params(labelrotation=90);\n",
    "axes[2][0].tick_params(labelrotation=90);\n",
    "axes[2][1].tick_params(labelrotation=90);\n",
    "axes[0, 0].tick_params(labelrotation=90);\n",
    "axes[0, 1].tick_params(labelrotation=90);\n",
    "axes[1, 0].tick_params(labelrotation=90);"
   ]
  },
  {
   "cell_type": "code",
   "execution_count": 149,
   "metadata": {},
   "outputs": [
    {
     "data": {
      "text/plain": [
       "Text(0.5, 1.0, 'Top 5 world count')"
      ]
     },
     "execution_count": 149,
     "metadata": {},
     "output_type": "execute_result"
    },
    {
     "data": {
      "image/png": "[encoded data removed]",
      "text/plain": [
       "<Figure size 1200x700 with 1 Axes>"
      ]
     },
     "metadata": {},
     "output_type": "display_data"
    }
   ],
   "source": [
    "plt.figure(figsize=(12, 7))\n",
    "data.groupby('Author')['Word_Count'].mean().sort_values(ascending=False).head(5).plot.bar( fontsize=12)\n",
    "plt.title('Top 5 world count')\n"
   ]
  },
  {
   "cell_type": "code",
   "execution_count": null,
   "metadata": {},
   "outputs": [],
   "source": [
    "plt.figure(figsize=(12, 7))\n",
    "\n",
    "data.groupby('Author')['urlcount'].mean().sort_values(ascending=False).head(5).plot.bar( fontsize=12)\n",
    "plt.title('Top 5 link/url sender in the group')"
   ]
  },
  {
   "cell_type": "code",
   "execution_count": 147,
   "metadata": {},
   "outputs": [
    {
     "data": {
      "image/png": "[encoded data removed]",
      "text/plain": [
       "<Figure size 1200x700 with 2 Axes>"
      ]
     },
     "metadata": {},
     "output_type": "display_data"
    }
   ],
   "source": [
    "plt.figure(figsize=(12, 7))\n",
    "sns.heatmap(data.drop(['Time', 'Author', 'Message', 'emoji', 'day', 'month', 'year'], axis = 1).corr(), annot = True, vmin = -1, vmax = 1)\n",
    "plt.show()"
   ]
  },
  {
   "cell_type": "code",
   "execution_count": null,
   "metadata": {},
   "outputs": [],
   "source": []
  }
 ],
 "metadata": {
  "kernelspec": {
   "display_name": "Python 3 (ipykernel)",
   "language": "python",
   "name": "python3"
  },
  "language_info": {
   "codemirror_mode": {
    "name": "ipython",
    "version": 3
   },
   "file_extension": ".py",
   "mimetype": "text/x-python",
   "name": "python",
   "nbconvert_exporter": "python",
   "pygments_lexer": "ipython3",
   "version": "3.11.5"
  }
 },
 "nbformat": 4,
 "nbformat_minor": 4
}
